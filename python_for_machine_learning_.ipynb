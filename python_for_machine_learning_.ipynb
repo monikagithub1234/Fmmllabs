{
  "nbformat": 4,
  "nbformat_minor": 0,
  "metadata": {
    "colab": {
      "provenance": [],
      "include_colab_link": true
    },
    "kernelspec": {
      "name": "python3",
      "display_name": "Python 3"
    },
    "language_info": {
      "name": "python"
    }
  },
  "cells": [
    {
      "cell_type": "markdown",
      "metadata": {
        "id": "view-in-github",
        "colab_type": "text"
      },
      "source": [
        "<a href=\"https://colab.research.google.com/github/monikagithub1234/Fmmllabs/blob/main/python_for_machine_learning_.ipynb\" target=\"_parent\"><img src=\"https://colab.research.google.com/assets/colab-badge.svg\" alt=\"Open In Colab\"/></a>"
      ]
    },
    {
      "cell_type": "markdown",
      "source": [
        "# PYTHON"
      ],
      "metadata": {
        "id": "loskTl79EClL"
      }
    },
    {
      "cell_type": "markdown",
      "source": [
        "\n",
        "Python is a popular programming language. It was created by Guido van Rossum, and released in 1991.\n",
        "\n",
        "**It is used for:**\n",
        "* web development (server-side)\n",
        "* software development\n",
        "* mathematics\n",
        "* system scripting\n",
        "\n",
        "What can Python do?\n",
        "* Python can be used on a server to create web applications.\n",
        "* Python can be used alongside software to create workflows.\n",
        "* Python can connect to database systems. It can also read and modify files.\n",
        "* Python can be used to handle big data and perform complex mathematics.\n",
        "* Python can be used for rapid prototyping, or for production-ready software\n",
        " development.\n",
        "\n",
        "Why Python?\n",
        "* Python works on different platforms (Windows, Mac, Linux, Raspberry Pi, etc).\n",
        "* Python has a simple syntax similar to the English language.\n",
        "* Python has syntax that allows developers to write programs with fewer lines than some other programming languages.\n",
        "* Python runs on an interpreter system, meaning that code can be executed as soon as it is written. This means that prototyping can be very quick.\n",
        "* Python can be treated in a procedural way, an object-oriented way or a functional way.\n",
        "* Python Syntax compared to other programming languages\n",
        "* Python was designed for readability, and has some similarities to the English language with influence from mathematics.\n",
        "* Python uses new lines to complete a command, as opposed to other programming languages which often use semicolons or parentheses.\n",
        "* Python relies on indentation, using whitespace, to define scope; such as the scope of loops, functions and classes. Other programming languages often use curly-brackets for this purpose."
      ],
      "metadata": {
        "id": "eykjhRtS7iGn"
      }
    },
    {
      "cell_type": "code",
      "source": [
        "#syntax\n",
        "print(\"Hello, World!\")"
      ],
      "metadata": {
        "colab": {
          "base_uri": "https://localhost:8080/"
        },
        "id": "ubQxSA7ght2u",
        "outputId": "7f1f979e-d94f-4578-a344-05eec93ced25"
      },
      "execution_count": null,
      "outputs": [
        {
          "output_type": "stream",
          "name": "stdout",
          "text": [
            "Hello, World!\n"
          ]
        }
      ]
    },
    {
      "cell_type": "markdown",
      "source": [
        "# Python Variables\n",
        "**In Python, variables are created when you assign a value to it:**\n",
        "**variable is a storage block **"
      ],
      "metadata": {
        "id": "1ghgh_77igGG"
      }
    },
    {
      "cell_type": "markdown",
      "source": [
        "# Legal variable names:\n",
        "\n",
        "* myvar = \"John\"\n",
        "* my_var = \"John\"\n",
        "* _my_var = \"John\"\n",
        "* myVar = \"John\"\n",
        "* MYVAR = \"John\"\n",
        "* myvar2 = \"John\""
      ],
      "metadata": {
        "id": "XYb6dx2Dl51n"
      }
    },
    {
      "cell_type": "markdown",
      "source": [
        "# Illegal variable names:\n",
        "* 2myvar = \"John\"\n",
        "* my-var = \"John\"\n",
        "* my var = \"John\"\n"
      ],
      "metadata": {
        "id": "kGfagWiamFqf"
      }
    },
    {
      "cell_type": "code",
      "source": [
        "b=10\n",
        "print()"
      ],
      "metadata": {
        "colab": {
          "base_uri": "https://localhost:8080/"
        },
        "id": "KVNhjqLPhtzM",
        "outputId": "4d047259-7d5e-4224-dee4-f2ff4a9dcb95"
      },
      "execution_count": null,
      "outputs": [
        {
          "output_type": "stream",
          "name": "stdout",
          "text": [
            "\n"
          ]
        }
      ]
    },
    {
      "cell_type": "code",
      "source": [
        "a=10\n",
        "b=\"total\"\n",
        "print(a)\n",
        "print(b)"
      ],
      "metadata": {
        "colab": {
          "base_uri": "https://localhost:8080/"
        },
        "id": "p24p0Gu9htvf",
        "outputId": "9d9626d9-8bcb-47f1-93c8-87382e8be1bd"
      },
      "execution_count": null,
      "outputs": [
        {
          "output_type": "stream",
          "name": "stdout",
          "text": [
            "10\n",
            "total\n"
          ]
        }
      ]
    },
    {
      "cell_type": "code",
      "source": [
        "a= 10\n",
        "a=20\n",
        "print(a)"
      ],
      "metadata": {
        "colab": {
          "base_uri": "https://localhost:8080/"
        },
        "id": "6erRrP_mhtsz",
        "outputId": "e9c593b6-296e-4f66-a893-f5c00b3863c7"
      },
      "execution_count": null,
      "outputs": [
        {
          "output_type": "stream",
          "name": "stdout",
          "text": [
            "20\n"
          ]
        }
      ]
    },
    {
      "cell_type": "code",
      "source": [
        "x,y,z= \"or\",\"ba\",\"tu\"\n",
        "print(x,y,z)"
      ],
      "metadata": {
        "colab": {
          "base_uri": "https://localhost:8080/"
        },
        "id": "kT2AJsY5htpR",
        "outputId": "7ff556a3-a071-471e-b909-9454924243c9"
      },
      "execution_count": null,
      "outputs": [
        {
          "output_type": "stream",
          "name": "stdout",
          "text": [
            "or ba tu\n"
          ]
        }
      ]
    },
    {
      "cell_type": "code",
      "source": [
        "x=y=z=\"butterfly\"\n",
        "print(x,y,z)"
      ],
      "metadata": {
        "colab": {
          "base_uri": "https://localhost:8080/"
        },
        "id": "3H5YbnCBhtmH",
        "outputId": "5cb1e883-8c0c-42a1-fd96-74bc33a054b1"
      },
      "execution_count": null,
      "outputs": [
        {
          "output_type": "stream",
          "name": "stdout",
          "text": [
            "butterfly butterfly butterfly\n"
          ]
        }
      ]
    },
    {
      "cell_type": "code",
      "source": [
        "x,y,z=\"orrr\"\n",
        "print(x,y,z)"
      ],
      "metadata": {
        "colab": {
          "base_uri": "https://localhost:8080/",
          "height": 164
        },
        "id": "JW1pytcEQKH8",
        "outputId": "96f2b208-fbfd-4c2e-dd1d-4239e16870d3"
      },
      "execution_count": null,
      "outputs": [
        {
          "output_type": "error",
          "ename": "ValueError",
          "evalue": "too many values to unpack (expected 3)",
          "traceback": [
            "\u001b[0;31m---------------------------------------------------------------------------\u001b[0m",
            "\u001b[0;31mValueError\u001b[0m                                Traceback (most recent call last)",
            "\u001b[0;32m<ipython-input-2-fa62ac9147e9>\u001b[0m in \u001b[0;36m<cell line: 1>\u001b[0;34m()\u001b[0m\n\u001b[0;32m----> 1\u001b[0;31m \u001b[0mx\u001b[0m\u001b[0;34m,\u001b[0m\u001b[0my\u001b[0m\u001b[0;34m,\u001b[0m\u001b[0mz\u001b[0m\u001b[0;34m=\u001b[0m\u001b[0;34m\"orrr\"\u001b[0m\u001b[0;34m\u001b[0m\u001b[0;34m\u001b[0m\u001b[0m\n\u001b[0m\u001b[1;32m      2\u001b[0m \u001b[0mprint\u001b[0m\u001b[0;34m(\u001b[0m\u001b[0mx\u001b[0m\u001b[0;34m,\u001b[0m\u001b[0my\u001b[0m\u001b[0;34m,\u001b[0m\u001b[0mz\u001b[0m\u001b[0;34m)\u001b[0m\u001b[0;34m\u001b[0m\u001b[0;34m\u001b[0m\u001b[0m\n",
            "\u001b[0;31mValueError\u001b[0m: too many values to unpack (expected 3)"
          ]
        }
      ]
    },
    {
      "cell_type": "markdown",
      "source": [
        "# Multi Words Variable Names\n",
        "Variable names with more than one word can be difficult to read.\n",
        "\n",
        "There are several techniques you can use to make them more readable"
      ],
      "metadata": {
        "id": "2CMvmQlPmSJo"
      }
    },
    {
      "cell_type": "markdown",
      "source": [
        "# Camel Case\n",
        "Each word, except the first, starts with a capital letter:"
      ],
      "metadata": {
        "id": "3r75rn4SmVnZ"
      }
    },
    {
      "cell_type": "code",
      "source": [
        "myVariableName=\"prasad\"\n",
        "print(myVariableName)"
      ],
      "metadata": {
        "colab": {
          "base_uri": "https://localhost:8080/"
        },
        "id": "KvnH1X7Vhtjb",
        "outputId": "ae41f79b-2918-4560-d620-ce0f05acc2d7"
      },
      "execution_count": null,
      "outputs": [
        {
          "output_type": "stream",
          "name": "stdout",
          "text": [
            "prasad\n"
          ]
        }
      ]
    },
    {
      "cell_type": "markdown",
      "source": [
        "# Pascal Case\n",
        "Each word starts with a capital letter"
      ],
      "metadata": {
        "id": "zlNP_k6Rma3-"
      }
    },
    {
      "cell_type": "code",
      "source": [
        "MyVariableName=\"prasad\"\n",
        "print(myVariableName)"
      ],
      "metadata": {
        "colab": {
          "base_uri": "https://localhost:8080/"
        },
        "id": "9yxfvoObhtgq",
        "outputId": "782542fa-2528-487e-f0da-65c9de4a26f7"
      },
      "execution_count": null,
      "outputs": [
        {
          "output_type": "stream",
          "name": "stdout",
          "text": [
            "prasad\n"
          ]
        }
      ]
    },
    {
      "cell_type": "markdown",
      "source": [
        "# Snake Case\n",
        "Each word is separated by an underscore character:"
      ],
      "metadata": {
        "id": "XQWi6vVMmeNV"
      }
    },
    {
      "cell_type": "code",
      "source": [
        "my_Variable_Name=\"prasad\"\n",
        "print(myVariableName)"
      ],
      "metadata": {
        "colab": {
          "base_uri": "https://localhost:8080/"
        },
        "id": "IpL0hisQhtaz",
        "outputId": "4df64840-6dd6-45bf-867a-65b8ca89aeb7"
      },
      "execution_count": null,
      "outputs": [
        {
          "output_type": "stream",
          "name": "stdout",
          "text": [
            "prasad\n"
          ]
        }
      ]
    },
    {
      "cell_type": "markdown",
      "source": [
        "# Swapping of two numbers"
      ],
      "metadata": {
        "id": "vbdSHlSLmh-1"
      }
    },
    {
      "cell_type": "code",
      "source": [
        "a=10\n",
        "b=20\n",
        "a,b=b,a\n",
        "print(a,b)"
      ],
      "metadata": {
        "colab": {
          "base_uri": "https://localhost:8080/"
        },
        "id": "nyOTQYXhhtXv",
        "outputId": "ff6bb429-0617-4471-d71b-a8361923261e"
      },
      "execution_count": null,
      "outputs": [
        {
          "output_type": "stream",
          "name": "stdout",
          "text": [
            "20 10\n"
          ]
        }
      ]
    },
    {
      "cell_type": "markdown",
      "source": [
        "# Get the Type\n",
        "**You can get the data type of a variable with the type() function.**"
      ],
      "metadata": {
        "id": "i4csZcpdj8C4"
      }
    },
    {
      "cell_type": "code",
      "source": [
        "x=5\n",
        "print(type(x))"
      ],
      "metadata": {
        "colab": {
          "base_uri": "https://localhost:8080/"
        },
        "id": "GRGcMAS4htVE",
        "outputId": "55973cdd-559e-442d-fb3e-22928d7eeef8"
      },
      "execution_count": null,
      "outputs": [
        {
          "output_type": "stream",
          "name": "stdout",
          "text": [
            "<class 'int'>\n"
          ]
        }
      ]
    },
    {
      "cell_type": "markdown",
      "source": [
        "# Python Data Types\n",
        "\n",
        "* Text Type:\tstr\n",
        "* Numeric Types:\tint, float, complex\n",
        "* Sequence Types:\tlist, tuple, range\n",
        "* Mapping Type:\tdict\n",
        "* Set Types:\tset, frozenset\n",
        "* Boolean Type:\tbool\n",
        "\n",
        "\n",
        "\n"
      ],
      "metadata": {
        "id": "DdbQBvAVkYbV"
      }
    },
    {
      "cell_type": "code",
      "source": [
        "x=20\n",
        "print(x)\n",
        "print(type(x))"
      ],
      "metadata": {
        "colab": {
          "base_uri": "https://localhost:8080/"
        },
        "id": "xidq2_uVhtPH",
        "outputId": "4a5d5e8f-3fb0-48c1-d751-2dede6a37551"
      },
      "execution_count": null,
      "outputs": [
        {
          "output_type": "stream",
          "name": "stdout",
          "text": [
            "20\n",
            "<class 'int'>\n"
          ]
        }
      ]
    },
    {
      "cell_type": "code",
      "source": [
        "x=20.5\n",
        "print(type(x))"
      ],
      "metadata": {
        "colab": {
          "base_uri": "https://localhost:8080/"
        },
        "id": "Hcd5dbAYhtML",
        "outputId": "4e5466ce-2111-4c16-9357-d91ab94bdb55"
      },
      "execution_count": null,
      "outputs": [
        {
          "output_type": "stream",
          "name": "stdout",
          "text": [
            "<class 'float'>\n"
          ]
        }
      ]
    },
    {
      "cell_type": "code",
      "source": [
        "x=1j\n",
        "print(x)\n",
        "print(type(x))"
      ],
      "metadata": {
        "colab": {
          "base_uri": "https://localhost:8080/"
        },
        "id": "FGyYMth5htJe",
        "outputId": "7d8072a6-914d-4065-aabb-5a0b3b6c8107"
      },
      "execution_count": null,
      "outputs": [
        {
          "output_type": "stream",
          "name": "stdout",
          "text": [
            "1j\n",
            "<class 'complex'>\n"
          ]
        }
      ]
    },
    {
      "cell_type": "code",
      "source": [
        "x=\"1a\"\n",
        "print(x)\n",
        "print(type(x))"
      ],
      "metadata": {
        "colab": {
          "base_uri": "https://localhost:8080/"
        },
        "id": "quKFzecnhtGk",
        "outputId": "33608e8f-d27c-4e14-8141-bb4794b94efc"
      },
      "execution_count": null,
      "outputs": [
        {
          "output_type": "stream",
          "name": "stdout",
          "text": [
            "1a\n",
            "<class 'str'>\n"
          ]
        }
      ]
    },
    {
      "cell_type": "code",
      "source": [
        "a=True\n",
        "print(a)\n",
        "print(type(a))"
      ],
      "metadata": {
        "colab": {
          "base_uri": "https://localhost:8080/"
        },
        "id": "wbRpvV_PhtD1",
        "outputId": "3b0dbd18-fd40-410a-dbb7-6e81d67e035e"
      },
      "execution_count": null,
      "outputs": [
        {
          "output_type": "stream",
          "name": "stdout",
          "text": [
            "True\n",
            "<class 'bool'>\n"
          ]
        }
      ]
    },
    {
      "cell_type": "code",
      "source": [
        "a=kiet\n",
        "print(a)\n",
        "print(type(a))"
      ],
      "metadata": {
        "colab": {
          "base_uri": "https://localhost:8080/",
          "height": 182
        },
        "id": "no8MLV8BhtBH",
        "outputId": "a3e712f5-6c3c-4319-adee-75f826325789"
      },
      "execution_count": null,
      "outputs": [
        {
          "output_type": "error",
          "ename": "NameError",
          "evalue": "name 'kiet' is not defined",
          "traceback": [
            "\u001b[0;31m---------------------------------------------------------------------------\u001b[0m",
            "\u001b[0;31mNameError\u001b[0m                                 Traceback (most recent call last)",
            "\u001b[0;32m<ipython-input-45-cd656fe15551>\u001b[0m in \u001b[0;36m<cell line: 1>\u001b[0;34m()\u001b[0m\n\u001b[0;32m----> 1\u001b[0;31m \u001b[0ma\u001b[0m\u001b[0;34m=\u001b[0m\u001b[0mkiet\u001b[0m\u001b[0;34m\u001b[0m\u001b[0;34m\u001b[0m\u001b[0m\n\u001b[0m\u001b[1;32m      2\u001b[0m \u001b[0mprint\u001b[0m\u001b[0;34m(\u001b[0m\u001b[0ma\u001b[0m\u001b[0;34m)\u001b[0m\u001b[0;34m\u001b[0m\u001b[0;34m\u001b[0m\u001b[0m\n\u001b[1;32m      3\u001b[0m \u001b[0mprint\u001b[0m\u001b[0;34m(\u001b[0m\u001b[0mtype\u001b[0m\u001b[0;34m(\u001b[0m\u001b[0ma\u001b[0m\u001b[0;34m)\u001b[0m\u001b[0;34m)\u001b[0m\u001b[0;34m\u001b[0m\u001b[0;34m\u001b[0m\u001b[0m\n",
            "\u001b[0;31mNameError\u001b[0m: name 'kiet' is not defined"
          ]
        }
      ]
    },
    {
      "cell_type": "markdown",
      "source": [
        "\n",
        "# TOKENS , PRINTING STATEMENTS AND TYPE CASTING"
      ],
      "metadata": {
        "id": "6VQU2Mia7M04"
      }
    },
    {
      "cell_type": "markdown",
      "source": [
        "**TOKENS**\n",
        "Tokens are the building blocks of a program. When you write code, the Python interpreter breaks it down into these tokens for further processing."
      ],
      "metadata": {
        "id": "gp-j7nz5DPHr"
      }
    },
    {
      "cell_type": "markdown",
      "source": [
        "# TOKENS are 5 types\n",
        "1.   KEYWORDS\n",
        "2.   IDENTIFIERS\n",
        "3. LITERALS\n",
        "4.  DELIMITERS\n",
        "5.  COMMENTS\n",
        "\n",
        "\n",
        "\n",
        "\n",
        "\n",
        "\n"
      ],
      "metadata": {
        "id": "rLzJuBfFDlcW"
      }
    },
    {
      "cell_type": "markdown",
      "source": [
        "# KEYWORDS\n",
        "**Keywords: These are reserved words that have special meanings in Python and cannot be used as identifiers (variable names or function names). Examples include if, else, while, for, def, class, etc.**"
      ],
      "metadata": {
        "id": "xRx3wFI2EAd_"
      }
    },
    {
      "cell_type": "code",
      "source": [
        "if 2<10:\n",
        "    print(\"This is an example of a keyword (if)\")\n"
      ],
      "metadata": {
        "id": "eU7alRp-7ZIP"
      },
      "execution_count": null,
      "outputs": []
    },
    {
      "cell_type": "markdown",
      "source": [
        "# IDENTIFIERS\n",
        "** These are names given to variables, functions, classes, modules, etc. in a Python program. Identifiers must follow certain rules, such as starting with a letter or underscore, followed by letters, digits, or underscores. Identifiers are case-sensitive.**"
      ],
      "metadata": {
        "id": "74Lk_EoWEP5A"
      }
    },
    {
      "cell_type": "code",
      "source": [
        "x = 5\n",
        "y = \"John\"\n",
        "print(x)\n",
        "print(y)"
      ],
      "metadata": {
        "id": "PUm21ReJEQcE"
      },
      "execution_count": null,
      "outputs": []
    },
    {
      "cell_type": "markdown",
      "source": [
        "# Literals:\n",
        "**Literals: Literals represent fixed values in your code. There are several types of literals:\n",
        "\n",
        "Numeric literals: These include integers, floating-point numbers, and complex numbers.\n",
        "String literals: These are sequences of characters enclosed in quotes (' or \").**"
      ],
      "metadata": {
        "id": "Q3w54JIPEc9K"
      }
    },
    {
      "cell_type": "code",
      "source": [
        "# Literals\n",
        "number = 42\n",
        "floating_point = 3.14\n",
        "string = \"Hello, World!\"\n",
        "boolean = True\n",
        "none_value = None"
      ],
      "metadata": {
        "id": "Uu64MFAREobE"
      },
      "execution_count": null,
      "outputs": []
    },
    {
      "cell_type": "markdown",
      "source": [
        "# Operators:\n",
        "**Operators: Operators are symbols that perform operations on operands. For example, +, -, *, / are arithmetic operators, ==, !=, <, > are comparison operators, and, or, not are logical operators, etc.**"
      ],
      "metadata": {
        "id": "xCoJBPS8EqIM"
      }
    },
    {
      "cell_type": "code",
      "source": [
        "x = 10\n",
        "y = 20\n",
        "print(x+y)"
      ],
      "metadata": {
        "id": "Q-ENd-nwFGeX"
      },
      "execution_count": null,
      "outputs": []
    },
    {
      "cell_type": "code",
      "source": [
        "x = \"Python \"\n",
        "y = \"is \"\n",
        "z = \"awesome\"\n",
        "print(x + y + z)"
      ],
      "metadata": {
        "id": "fkounljTExe4",
        "colab": {
          "base_uri": "https://localhost:8080/"
        },
        "outputId": "c31caf68-8467-44f8-b6ce-35e1fb854c21"
      },
      "execution_count": null,
      "outputs": [
        {
          "output_type": "stream",
          "name": "stdout",
          "text": [
            "Python is awesome\n"
          ]
        }
      ]
    },
    {
      "cell_type": "markdown",
      "source": [
        "**In the print() function, when you try to combine a string and a number with the + operator, Python will give you an error:**"
      ],
      "metadata": {
        "id": "E9pnONHzFR4Z"
      }
    },
    {
      "cell_type": "code",
      "source": [
        "x = 5\n",
        "y = \"John\"\n",
        "print(x + y)"
      ],
      "metadata": {
        "id": "1EKSNZnXFPc3",
        "colab": {
          "base_uri": "https://localhost:8080/",
          "height": 183
        },
        "outputId": "6ca95fcc-0a36-406d-a20b-0a08d2a36a2c"
      },
      "execution_count": null,
      "outputs": [
        {
          "output_type": "error",
          "ename": "TypeError",
          "evalue": "unsupported operand type(s) for +: 'int' and 'str'",
          "traceback": [
            "\u001b[0;31m---------------------------------------------------------------------------\u001b[0m",
            "\u001b[0;31mTypeError\u001b[0m                                 Traceback (most recent call last)",
            "\u001b[0;32m<ipython-input-20-00c66e4310ff>\u001b[0m in \u001b[0;36m<cell line: 3>\u001b[0;34m()\u001b[0m\n\u001b[1;32m      1\u001b[0m \u001b[0mx\u001b[0m \u001b[0;34m=\u001b[0m \u001b[0;36m5\u001b[0m\u001b[0;34m\u001b[0m\u001b[0;34m\u001b[0m\u001b[0m\n\u001b[1;32m      2\u001b[0m \u001b[0my\u001b[0m \u001b[0;34m=\u001b[0m \u001b[0;34m\"John\"\u001b[0m\u001b[0;34m\u001b[0m\u001b[0;34m\u001b[0m\u001b[0m\n\u001b[0;32m----> 3\u001b[0;31m \u001b[0mprint\u001b[0m\u001b[0;34m(\u001b[0m\u001b[0mx\u001b[0m \u001b[0;34m+\u001b[0m \u001b[0my\u001b[0m\u001b[0;34m)\u001b[0m\u001b[0;34m\u001b[0m\u001b[0;34m\u001b[0m\u001b[0m\n\u001b[0m",
            "\u001b[0;31mTypeError\u001b[0m: unsupported operand type(s) for +: 'int' and 'str'"
          ]
        }
      ]
    },
    {
      "cell_type": "code",
      "source": [
        "x = 5\n",
        "y = \"John\"\n",
        "print(x,y)"
      ],
      "metadata": {
        "id": "-J2IxFiLFWHF",
        "colab": {
          "base_uri": "https://localhost:8080/"
        },
        "outputId": "aeb563aa-43a1-4ec6-e838-ccf1201ea3b2"
      },
      "execution_count": null,
      "outputs": [
        {
          "output_type": "stream",
          "name": "stdout",
          "text": [
            "5 John\n"
          ]
        }
      ]
    },
    {
      "cell_type": "markdown",
      "source": [
        "# DELIMITERS\n",
        "**Delimiters: These are characters used to specify the structure of a program. Examples include parentheses (), square brackets [], curly braces {}, commas ,, colons :, periods ., etc.**"
      ],
      "metadata": {
        "id": "SIMEhWzFGWv6"
      }
    },
    {
      "cell_type": "code",
      "source": [
        "my_list = [1, 2, 3, 4]\n",
        "my_dict = {'a': 1, 'b': 2}\n"
      ],
      "metadata": {
        "id": "Aw78tMAsGXOL"
      },
      "execution_count": null,
      "outputs": []
    },
    {
      "cell_type": "markdown",
      "source": [
        "#Comments\n",
        "**Comments: Comments are used to explain code and are ignored by the Python interpreter. They start with # and extend to the end of the line.**\n",
        "\n",
        "\n",
        "\n"
      ],
      "metadata": {
        "id": "V1uu5azyExy4"
      }
    },
    {
      "cell_type": "markdown",
      "source": [
        "**WE HAVE TWO TYPES OF COMMENTS IN PYTHON**\n",
        "\n",
        "\n",
        "1.   SINGLE LINE COMMENT-----#\n",
        "2.   MULTY LINE COMMENT-----\"\"\" \"\"\"\n",
        "\n",
        "\n"
      ],
      "metadata": {
        "id": "70QINSwsFi3A"
      }
    },
    {
      "cell_type": "code",
      "source": [
        "#This is a comment\n",
        "print(\"Hello, World!\")"
      ],
      "metadata": {
        "id": "noLB3dGCFbmq"
      },
      "execution_count": null,
      "outputs": []
    },
    {
      "cell_type": "code",
      "source": [
        "print(\"Hello, World!\") #This is a comment"
      ],
      "metadata": {
        "id": "rnRjkDeeFgju"
      },
      "execution_count": null,
      "outputs": []
    },
    {
      "cell_type": "code",
      "source": [
        "#print(\"Hello, World!\")\n",
        "print(\"Cheers, Mate!\")"
      ],
      "metadata": {
        "id": "XkQQYh_MFh_E"
      },
      "execution_count": null,
      "outputs": []
    },
    {
      "cell_type": "code",
      "source": [
        "\"\"\"\n",
        "This is a comment\n",
        "written in\n",
        "more than just one line\n",
        "\"\"\"\n",
        "print(\"Hello, World!\")"
      ],
      "metadata": {
        "id": "HdQHdJ7mF6O1"
      },
      "execution_count": null,
      "outputs": []
    },
    {
      "cell_type": "markdown",
      "source": [
        "# Type casting\n",
        "**Type casting, also known as type conversion, is the process of converting one data type into another. In Python, you can perform type casting using various built-in functions or by using the constructor functions of the target data type.\n",
        "\n",
        "Here are the common types of type casting in Python:**"
      ],
      "metadata": {
        "id": "GIXRwGwUHNJb"
      }
    },
    {
      "cell_type": "markdown",
      "source": [
        "**Implicit Type Conversion: This type of conversion is automatically performed by Python for certain operations where one data type is expected, but another data type is provided. For example, adding an integer to a float will result in an implicit conversion of the integer to a float.**"
      ],
      "metadata": {
        "id": "EnpX828YHUkf"
      }
    },
    {
      "cell_type": "code",
      "source": [
        "# Implicit Type Conversion\n",
        "num_int = 10\n",
        "num_float = 3.5\n",
        "result = num_int + num_float  # num_int is implicitly converted to float\n",
        "print(result)  # Output: 13.5\n"
      ],
      "metadata": {
        "id": "1hatVICUHYbP",
        "colab": {
          "base_uri": "https://localhost:8080/"
        },
        "outputId": "6bb5a30c-f317-40d9-d339-27b68b9aeb5b"
      },
      "execution_count": null,
      "outputs": [
        {
          "output_type": "stream",
          "name": "stdout",
          "text": [
            "13.5\n"
          ]
        }
      ]
    },
    {
      "cell_type": "markdown",
      "source": [
        "**Explicit Type Conversion: This type of conversion is performed explicitly by the programmer using predefined functions to convert one data type to another.**\n",
        "\n",
        "1. int(): Converts the specified value into an integer.\n",
        "2. float(): Converts the specified value into a floating-point number.\n",
        "3. str(): Converts the specified value into a string.\n",
        "4. bool(): Converts the specified value into a Boolean value.\n",
        "5. list(): Converts the specified iterable (e.g., tuple, set) into a list.\n",
        "6. tuple(): Converts the specified iterable into a tuple.\n",
        "7. set(): Converts the specified iterable into a set."
      ],
      "metadata": {
        "id": "nX5moavSHdVp"
      }
    },
    {
      "cell_type": "code",
      "source": [
        "# Converting string to integer\n",
        "num_str = \"123\"\n",
        "num_int = int(num_str)  # Convert string to integer\n",
        "print(num_int)"
      ],
      "metadata": {
        "id": "VXC3CcHCHomZ",
        "colab": {
          "base_uri": "https://localhost:8080/"
        },
        "outputId": "23483c12-d173-47bd-c58b-3038e25b4baa"
      },
      "execution_count": null,
      "outputs": [
        {
          "output_type": "stream",
          "name": "stdout",
          "text": [
            "123\n"
          ]
        }
      ]
    },
    {
      "cell_type": "code",
      "source": [
        "a=13.5\n",
        "b=int(a)\n",
        "print(b)"
      ],
      "metadata": {
        "colab": {
          "base_uri": "https://localhost:8080/"
        },
        "id": "ZvYPW0ubeDKi",
        "outputId": "6af85d58-fe0d-4f21-896d-44d16fa624be"
      },
      "execution_count": null,
      "outputs": [
        {
          "output_type": "stream",
          "name": "stdout",
          "text": [
            "13\n"
          ]
        }
      ]
    },
    {
      "cell_type": "code",
      "source": [
        "# Converting float to integer\n",
        "a = 3.14\n",
        "b= int(a)\n",
        "print(\"Float to Integer:\", b)"
      ],
      "metadata": {
        "id": "HTi392JaHqIN"
      },
      "execution_count": null,
      "outputs": []
    },
    {
      "cell_type": "code",
      "source": [
        "# Converting integer to string\n",
        "num_int = 456\n",
        "num_str = str(num_int)\n",
        "print(\"Integer to String:\", num_str)"
      ],
      "metadata": {
        "id": "ewIvUvdsHqEV"
      },
      "execution_count": null,
      "outputs": []
    },
    {
      "cell_type": "code",
      "source": [
        "# Converting boolean to integer\n",
        "bool_val = True\n",
        "num_int = int(bool_val)\n",
        "print(\"Boolean to Integer:\", num_int)"
      ],
      "metadata": {
        "id": "1n78qOshHqBT"
      },
      "execution_count": null,
      "outputs": []
    },
    {
      "cell_type": "markdown",
      "source": [
        "#PRINTING METHODS\n",
        "**Two commonly used methods are f-strings and the format() method.**"
      ],
      "metadata": {
        "id": "bHi5ixzDI8WY"
      }
    },
    {
      "cell_type": "markdown",
      "source": [
        "**f-strings provide a concise and readable way to format strings by embedding expressions inside curly braces {}. You can include variables, expressions, and function calls directly within the string. f-strings are available in Python 3.6 and later versions.**"
      ],
      "metadata": {
        "id": "OcPIk5QvJIi_"
      }
    },
    {
      "cell_type": "code",
      "source": [
        "x = 5\n",
        "y = 10\n",
        "print(f\"The sum of {x} and {y} is {x + y}\")"
      ],
      "metadata": {
        "id": "KAH-3uslJapq"
      },
      "execution_count": null,
      "outputs": []
    },
    {
      "cell_type": "code",
      "source": [
        "name = \"John\"\n",
        "print(f\"Hello, {name}\")"
      ],
      "metadata": {
        "id": "CyOYb6obJyRl"
      },
      "execution_count": null,
      "outputs": []
    },
    {
      "cell_type": "code",
      "source": [
        "name = \"Alice\"\n",
        "age = 30\n",
        "height = 5.6\n",
        "\n",
        "# Using f-strings\n",
        "print(f\"My name is {name}, I am {age} years old, and my height is {height} feet.\")\n"
      ],
      "metadata": {
        "id": "IvAPMulwJAM_"
      },
      "execution_count": null,
      "outputs": []
    },
    {
      "cell_type": "markdown",
      "source": [
        "**format() method:\n",
        "\n",
        "The format() method allows you to format strings by inserting variables or values into placeholders {} within the string. You can specify the order of insertion and provide formatting options such as alignment, padding, and precision.**"
      ],
      "metadata": {
        "id": "O5vU_p2gJOyB"
      }
    },
    {
      "cell_type": "code",
      "source": [
        "name = \"Bob\"\n",
        "age = 25\n",
        "height = 6.0\n",
        "\n",
        "# Using format() method\n",
        "print(\"My name is {}, I am {} years old, and my height is {} feet.\".format(name, age, height))\n"
      ],
      "metadata": {
        "id": "oEMbfIV6JUEY"
      },
      "execution_count": null,
      "outputs": []
    },
    {
      "cell_type": "code",
      "source": [
        "item = \"apple\"\n",
        "price = 1.99\n",
        "print(\"The price of {} is {}\".format(item, price))"
      ],
      "metadata": {
        "id": "nM9HAZVhJgq6"
      },
      "execution_count": null,
      "outputs": []
    },
    {
      "cell_type": "code",
      "source": [
        "name = \"Jane\"\n",
        "age = 35\n",
        "print(\"{1} is {0} years old\".format(age, name))"
      ],
      "metadata": {
        "id": "u9_yqSX3JpfX"
      },
      "execution_count": null,
      "outputs": []
    },
    {
      "cell_type": "markdown",
      "source": [
        "#  Random Number\n",
        "Python does not have a random() function to make a random number, but Python has a built-in module called random that can be used to make random numbers:"
      ],
      "metadata": {
        "id": "TEdz-tseKFCY"
      }
    },
    {
      "cell_type": "code",
      "source": [
        "import random\n",
        "\n",
        "print(random.randrange(1, 100))"
      ],
      "metadata": {
        "id": "UHkK9nLvKJNP"
      },
      "execution_count": null,
      "outputs": []
    },
    {
      "cell_type": "markdown",
      "source": [
        "#USER INPUT,INDENTATION AND CONDITIONALS"
      ],
      "metadata": {
        "id": "rN_1GT3ckKcZ"
      }
    },
    {
      "cell_type": "markdown",
      "source": [
        "# USER INPUT\n",
        "**User input refers to data or information provided by the user to a computer program during its execution.**"
      ],
      "metadata": {
        "id": "pBq1x43ulQkV"
      }
    },
    {
      "cell_type": "code",
      "source": [
        "a=10\n",
        "print(a)"
      ],
      "metadata": {
        "id": "Qya3mW-aloak"
      },
      "execution_count": null,
      "outputs": []
    },
    {
      "cell_type": "code",
      "source": [
        "# Prompting the user to enter their name\n",
        "a= int(input())\n",
        "print(a)"
      ],
      "metadata": {
        "id": "g4UdlYZVlwsE"
      },
      "execution_count": null,
      "outputs": []
    },
    {
      "cell_type": "code",
      "source": [
        "a= int(input())\n",
        "b=int(input())\n",
        "print(a+b)"
      ],
      "metadata": {
        "id": "zO53uFgCmnMb"
      },
      "execution_count": null,
      "outputs": []
    },
    {
      "cell_type": "code",
      "source": [
        "# Prompting the user to enter their name\n",
        "a= int(input(\"enter value of a:\"))\n",
        "print(a)"
      ],
      "metadata": {
        "id": "x-htMlnPmDLf"
      },
      "execution_count": null,
      "outputs": []
    },
    {
      "cell_type": "code",
      "source": [
        "a= float(input(\"enter value of a:\"))\n",
        "print(a)"
      ],
      "metadata": {
        "id": "VKUpuiwlmTd3"
      },
      "execution_count": null,
      "outputs": []
    },
    {
      "cell_type": "code",
      "source": [
        "# Prompting the user to enter their name\n",
        "name = input(\"Enter your name: \")\n",
        "\n",
        "# Displaying a greeting message with the user's name\n",
        "print(\"Hello,\", name)"
      ],
      "metadata": {
        "id": "DfOggyhIlZEs"
      },
      "execution_count": null,
      "outputs": []
    },
    {
      "cell_type": "markdown",
      "source": [
        "# Python Indentation\n",
        "**Indentation refers to the spaces at the beginning of a code line.\n",
        "\n",
        "Where in other programming languages the indentation in code is for readability only, the indentation in Python is very important.\n",
        "\n",
        "Python uses indentation to indicate a block of code.**"
      ],
      "metadata": {
        "id": "4keSsHqSk4V5"
      }
    },
    {
      "cell_type": "markdown",
      "source": [
        "Python will give you an error if you skip the indentation:"
      ],
      "metadata": {
        "id": "CEbU9MEUnf7C"
      }
    },
    {
      "cell_type": "code",
      "source": [
        "if 5 > 2:\n",
        "print(\"Five is greater than two!\")"
      ],
      "metadata": {
        "id": "rhYM7OBPnR7g"
      },
      "execution_count": null,
      "outputs": []
    },
    {
      "cell_type": "code",
      "source": [
        "if 5 > 2:\n",
        "  print(\"Five is greater than two!\")"
      ],
      "metadata": {
        "id": "_UG1qWtxkJ7k"
      },
      "execution_count": null,
      "outputs": []
    },
    {
      "cell_type": "code",
      "source": [
        "if 5 > 2:\n",
        " print(\"Five is greater than two!\")\n",
        "if 5 > 2:\n",
        "        print(\"Five is greater than two!\")"
      ],
      "metadata": {
        "id": "wlRmxsZijOhJ"
      },
      "execution_count": null,
      "outputs": []
    },
    {
      "cell_type": "markdown",
      "source": [],
      "metadata": {
        "id": "2AZPvMNORjGT"
      }
    },
    {
      "cell_type": "markdown",
      "source": [
        "# CONDITIONALS\n",
        "**\n",
        "In Python, conditional statements are used to control the flow of a program based on certain conditions. They allow the program to execute different blocks of code depending on whether certain conditions are true or false**"
      ],
      "metadata": {
        "id": "nt9sfYXuoBtG"
      }
    },
    {
      "cell_type": "markdown",
      "source": [
        "**In python the conditionals are**\n",
        "\n",
        "\n",
        "1. if\n",
        "2. if - else\n",
        "3. elif\n",
        "4. Nested if\n",
        "\n"
      ],
      "metadata": {
        "id": "k_3M7rkVoRsZ"
      }
    },
    {
      "cell_type": "markdown",
      "source": [
        "** logical conditions**\n",
        "\n",
        "\n",
        "*  Equals: a == b\n",
        "* Not Equals: a != b\n",
        "*  Less than: a < b\n",
        "*  Less than or equal to: a <= b\n",
        "*  Greater than: a > b\n",
        "*  Greater than or equal to: a >= b\n",
        "\n",
        "\n"
      ],
      "metadata": {
        "id": "4VW3_9s2o_iV"
      }
    },
    {
      "cell_type": "markdown",
      "source": [
        "**if Statement: The if statement is used to execute a block of code if a specified condition is true.**"
      ],
      "metadata": {
        "id": "vNLfq4SHokxc"
      }
    },
    {
      "cell_type": "code",
      "source": [
        "x = 10\n",
        "if x > 5:\n",
        "  print(\"x is greater than 5\")\n"
      ],
      "metadata": {
        "id": "jyLZ9ytOoQgg"
      },
      "execution_count": null,
      "outputs": []
    },
    {
      "cell_type": "code",
      "source": [
        "x = 10\n",
        "if x > 5:\n",
        "print(\"x is greater than 5\")"
      ],
      "metadata": {
        "id": "DlUycaovpnHC"
      },
      "execution_count": null,
      "outputs": []
    },
    {
      "cell_type": "code",
      "source": [
        "a=100\n",
        "if a!=10:\n",
        "  print(\"a not equals to 100\")"
      ],
      "metadata": {
        "id": "dfS5HqSMpW1v"
      },
      "execution_count": null,
      "outputs": []
    },
    {
      "cell_type": "code",
      "source": [
        "a=100\n",
        "if a>=10:\n",
        "  print(\"a greater than or not eqaul to 10\")\n"
      ],
      "metadata": {
        "id": "OtKSZK7cp2F9"
      },
      "execution_count": null,
      "outputs": []
    },
    {
      "cell_type": "code",
      "source": [
        "if 2 > 5:\n",
        "  print(\"NONE\")"
      ],
      "metadata": {
        "id": "zAWFbRlgq6Ud"
      },
      "execution_count": null,
      "outputs": []
    },
    {
      "cell_type": "markdown",
      "source": [
        "**if-else Statement: The if-else statement is used to execute one block of code if the condition is true, and another block of code if the condition is false.**"
      ],
      "metadata": {
        "id": "m4Q9561aqLHG"
      }
    },
    {
      "cell_type": "code",
      "source": [
        "x = 10\n",
        "if x > 5:\n",
        "    print(\"x is greater than 5\")\n",
        "else:\n",
        "    print(\"x is less than or equal to 5\")\n"
      ],
      "metadata": {
        "id": "SjvKBut8qKhe"
      },
      "execution_count": null,
      "outputs": []
    },
    {
      "cell_type": "code",
      "source": [
        "a = 200\n",
        "b = 33\n",
        "if b > a:\n",
        "  print(\"KIET\")\n",
        "else:\n",
        "  print(\"COLLEGE\")"
      ],
      "metadata": {
        "id": "qw6FfFi_qa0A"
      },
      "execution_count": null,
      "outputs": []
    },
    {
      "cell_type": "code",
      "source": [
        "age=20\n",
        "backlogs=0\n",
        "if age>18:\n",
        "  if backlogs<2:\n",
        "    print(\"submit letter\")\n",
        "  else:\n",
        "    print(\"no submission\")\n",
        "else:\n",
        "    print(\"default\")"
      ],
      "metadata": {
        "id": "4FuqxaYAYTqR"
      },
      "execution_count": null,
      "outputs": []
    },
    {
      "cell_type": "markdown",
      "source": [
        "**if-elif-else Statement: The if-elif-else statement is used to check multiple conditions. It evaluates each condition one by one, and if any of the conditions are true, the corresponding block of code is executed. If none of the conditions are true, the else block is executed.**"
      ],
      "metadata": {
        "id": "gS-Umwe9rdhI"
      }
    },
    {
      "cell_type": "code",
      "source": [
        "x = 10\n",
        "if x > 10:\n",
        "    print(\"x is greater than 10\")\n",
        "elif x == 10:\n",
        "    print(\"x is equal to 10\")\n",
        "else:\n",
        "    print(\"x is less than 10\")\n"
      ],
      "metadata": {
        "id": "8vfSkeMMrNw2"
      },
      "execution_count": null,
      "outputs": []
    },
    {
      "cell_type": "code",
      "source": [
        "x = 10\n",
        "if x < 100:\n",
        "    print(\"x is greater than 10\")\n",
        "elif x == 10:\n",
        "    print(\"x is equal to 10\")\n",
        "else:\n",
        "    print(\"x is less than 10\")"
      ],
      "metadata": {
        "id": "9OPsnwnMr1kF"
      },
      "execution_count": null,
      "outputs": []
    },
    {
      "cell_type": "code",
      "source": [
        "x = 10\n",
        "if x > 10:\n",
        "    print(\"x is greater than 10\")\n",
        "elif x != 10:\n",
        "    print(\"x is  NOT equal to 10\")\n",
        "else:\n",
        "    print(\"x is less than 10\")"
      ],
      "metadata": {
        "id": "FybiX4e5r8Gz"
      },
      "execution_count": null,
      "outputs": []
    },
    {
      "cell_type": "markdown",
      "source": [
        "#Nested If\n",
        "You can have if statements inside if statements, this is called nested if statements."
      ],
      "metadata": {
        "id": "Q_J0jzaiseEA"
      }
    },
    {
      "cell_type": "code",
      "source": [
        "x = 41\n",
        "\n",
        "if x > 10:\n",
        "  if x > 20:\n",
        "    print(\"and also above 20!\")\n",
        "  else:\n",
        "    print(\"but not above 20.\")\n",
        "else:\n",
        "  print(\"Not\")"
      ],
      "metadata": {
        "id": "5r1l4EmAsiB6"
      },
      "execution_count": null,
      "outputs": []
    },
    {
      "cell_type": "code",
      "source": [
        "x = 10\n",
        "if x < 5:\n",
        "    if x < 15:\n",
        "        print(\"x is between 5 and 15\")\n",
        "    else:\n",
        "        print(\"x is greater than or equal to 15\")\n",
        "else:\n",
        "    print(\"x is less than or equal to 5\")\n"
      ],
      "metadata": {
        "id": "0dRBl4QxtQh2"
      },
      "execution_count": null,
      "outputs": []
    },
    {
      "cell_type": "code",
      "source": [
        "x = 10\n",
        "if x > 5:\n",
        "    if x < 9:\n",
        "        print(\"x is between 5 and 9\")\n",
        "    elif x==10:\n",
        "      print(\"x equals to 10\")\n",
        "    else:\n",
        "        print(\"x is greater than or equal to 15\")\n",
        "else:\n",
        "    print(\"x is less than or equal to 5\")\n"
      ],
      "metadata": {
        "id": "Z0ydGDyitYpf"
      },
      "execution_count": null,
      "outputs": []
    },
    {
      "cell_type": "code",
      "source": [
        "x = 10\n",
        "if x > 5:\n",
        "    if x < 9:\n",
        "        print(\"x is between 5 and 9\")\n",
        "    elif x!=10:\n",
        "      print(\"x equals to 10\")\n",
        "    else:\n",
        "        print(\"x is greater than or equal to 15\")\n",
        "else:\n",
        "    print(\"x is less than or equal to 5\")"
      ],
      "metadata": {
        "id": "OTDEK-0Tt24L"
      },
      "execution_count": null,
      "outputs": []
    },
    {
      "cell_type": "markdown",
      "source": [
        "**CODE -2**\n",
        "Write a code to determine whether a number is positive number, negative number, or zero by taking user input.\n",
        "* ex:\n",
        "* 2\n",
        "* positive number\n",
        "* 0\n",
        "* Zero"
      ],
      "metadata": {
        "id": "_9ejrGRGvw2e"
      }
    },
    {
      "cell_type": "code",
      "source": [
        "num = int(input())\n",
        "if num>0:\n",
        "  print(\"Positive num\")\n",
        "elif num<0:\n",
        "  print(\"Negative num\")\n",
        "else:\n",
        "  print(\"The num is Zero\")"
      ],
      "metadata": {
        "id": "a94iWs_huMA9"
      },
      "execution_count": null,
      "outputs": []
    },
    {
      "cell_type": "markdown",
      "source": [
        "\n",
        "# OPERATORS AND STRINGS"
      ],
      "metadata": {
        "id": "q6gu6zgBuLRs"
      }
    },
    {
      "cell_type": "markdown",
      "source": [
        "**Python Operators\n",
        "Operators are used to perform operations on variables and values.\n",
        "\n",
        "In the example below, we use the + operator to add together two values**"
      ],
      "metadata": {
        "id": "XbPvb8vCvclm"
      }
    },
    {
      "cell_type": "code",
      "source": [
        "print(20 + 50)"
      ],
      "metadata": {
        "id": "Hg6uSJL4vUCR",
        "colab": {
          "base_uri": "https://localhost:8080/"
        },
        "outputId": "c661bc0f-d933-403a-e7e8-a5cccb69a0be"
      },
      "execution_count": null,
      "outputs": [
        {
          "output_type": "stream",
          "name": "stdout",
          "text": [
            "70\n"
          ]
        }
      ]
    },
    {
      "cell_type": "markdown",
      "source": [
        "Python divides the operators in the following groups:\n",
        "\n",
        "1. Arithmetic operators\n",
        "2. Assignment operators\n",
        "3. Comparison operators\n",
        "4. Logical operators\n",
        "5. Identity operators\n",
        "6. Membership operators\n",
        "7. Bitwise operators"
      ],
      "metadata": {
        "id": "Inm8YHasvysK"
      }
    },
    {
      "cell_type": "markdown",
      "source": [
        "#  Arithmetic Operators"
      ],
      "metadata": {
        "id": "z6fH7-fmwEnD"
      }
    },
    {
      "cell_type": "markdown",
      "source": [
        "**Python Arithmetic Operators are used with numeric values to perform common mathematical operations:**"
      ],
      "metadata": {
        "id": "93yGmgyfv_o6"
      }
    },
    {
      "cell_type": "markdown",
      "source": [
        "\n",
        "Operator\tName\tExample\tTry it\n",
        "1. Addition\tx + y\n",
        "2. Subtraction\tx - y\n",
        "3. Multiplication\tx * y\n",
        "4.\tDivision\tx / y\n",
        "5. Modulus\tx % y\n",
        "6. Exponentiation\tx ** y\n",
        "7. Floor division\tx // y"
      ],
      "metadata": {
        "id": "nCQBE4o0wKeT"
      }
    },
    {
      "cell_type": "code",
      "source": [
        "x = 15\n",
        "y = 2\n",
        "\n",
        "print(x / y)"
      ],
      "metadata": {
        "id": "XrP5bw7-vT_p",
        "colab": {
          "base_uri": "https://localhost:8080/"
        },
        "outputId": "3d91e0f4-3a99-4a26-b2ff-e6a9e44e65cf"
      },
      "execution_count": null,
      "outputs": [
        {
          "output_type": "stream",
          "name": "stdout",
          "text": [
            "7.5\n"
          ]
        }
      ]
    },
    {
      "cell_type": "code",
      "source": [
        "x = 15\n",
        "y = 2\n",
        "\n",
        "print(x // y)"
      ],
      "metadata": {
        "colab": {
          "base_uri": "https://localhost:8080/"
        },
        "id": "X6pXPrv-TqSy",
        "outputId": "4e2b8b98-420e-49cb-a783-b2d08a80bfdd"
      },
      "execution_count": null,
      "outputs": [
        {
          "output_type": "stream",
          "name": "stdout",
          "text": [
            "7\n"
          ]
        }
      ]
    },
    {
      "cell_type": "code",
      "source": [
        "x = 2\n",
        "y = 5\n",
        "\n",
        "print(x ** y)"
      ],
      "metadata": {
        "id": "4cstt5j6vT82",
        "colab": {
          "base_uri": "https://localhost:8080/"
        },
        "outputId": "80147b05-f1f1-4ad4-affa-f664142a77f5"
      },
      "execution_count": null,
      "outputs": [
        {
          "output_type": "stream",
          "name": "stdout",
          "text": [
            "32\n"
          ]
        }
      ]
    },
    {
      "cell_type": "code",
      "source": [
        "x = 10\n",
        "y = 2\n",
        "\n",
        "print(x % y)"
      ],
      "metadata": {
        "id": "4vOLXREbvTR9",
        "colab": {
          "base_uri": "https://localhost:8080/"
        },
        "outputId": "5164ccf3-d997-4c79-aca7-24c47027790e"
      },
      "execution_count": null,
      "outputs": [
        {
          "output_type": "stream",
          "name": "stdout",
          "text": [
            "0\n"
          ]
        }
      ]
    },
    {
      "cell_type": "markdown",
      "source": [
        "**CODE-3 determine whether a given number is even or odd:**"
      ],
      "metadata": {
        "id": "9ym3pB2E0RD7"
      }
    },
    {
      "cell_type": "code",
      "source": [
        "number=int(input(\"Enter a number\"))\n",
        "if number % 2 == 0:\n",
        "    print(\"number is even.\")\n",
        "else:\n",
        "    print(\"number is odd.\")"
      ],
      "metadata": {
        "id": "jh4ZMkFR0Qk8"
      },
      "execution_count": null,
      "outputs": []
    },
    {
      "cell_type": "markdown",
      "source": [
        "# Assignment Operators\n",
        "**Assignment operators are used to assign values to variables**\n",
        "\n",
        "Operator\tExample\n",
        "1.  x = 5\t -------x = 5\n",
        "2. \tx += 3\t-------x = x + 3\n",
        "3. \tx -= 3\t-------x = x - 3\n",
        "4. \tx *= 3\t-------x = x * 3\n",
        "5. \tx /= 3\t-------x = x / 3\n",
        "6. \tx %= 3\t-------x = x % 3\n",
        "7. \tx //= 3\t-------x = x // 3"
      ],
      "metadata": {
        "id": "4ousbdn6wwtF"
      }
    },
    {
      "cell_type": "code",
      "source": [
        "x = 5\n",
        "x += 3\n",
        "\n",
        "print(x)"
      ],
      "metadata": {
        "id": "y2F5Zp7kxR6D"
      },
      "execution_count": null,
      "outputs": []
    },
    {
      "cell_type": "code",
      "source": [
        "x = 5\n",
        "\n",
        "x **= 3\n",
        "\n",
        "print(x)"
      ],
      "metadata": {
        "id": "tdEM7UQuxjPN"
      },
      "execution_count": null,
      "outputs": []
    },
    {
      "cell_type": "markdown",
      "source": [
        "****"
      ],
      "metadata": {
        "id": "HYRmQ4C20K1r"
      }
    },
    {
      "cell_type": "markdown",
      "source": [
        "# Comparison Operators\n",
        "**Comparison operators are used to compare two values:**"
      ],
      "metadata": {
        "id": "e2-FfSfwxgJv"
      }
    },
    {
      "cell_type": "markdown",
      "source": [
        "\n",
        "Operator\tName\tExample\tTry it\n",
        "1. Equal\tx == y\n",
        "2. Not equal\tx != y\n",
        "3. Greater than\tx > y\n",
        "4. Less than\tx < y\n",
        "5. \tGreater than or equal to\tx >= y\n",
        "6. \tLess than or equal to\tx <= y"
      ],
      "metadata": {
        "id": "TfpEZ1IyxyEX"
      }
    },
    {
      "cell_type": "code",
      "source": [
        "x = 5\n",
        "y = 3\n",
        "\n",
        "print(x == y)"
      ],
      "metadata": {
        "id": "i7-vS4aFxSjr",
        "colab": {
          "base_uri": "https://localhost:8080/"
        },
        "outputId": "348a9b65-e2a8-4d30-d5f7-3f317cc47e96"
      },
      "execution_count": null,
      "outputs": [
        {
          "output_type": "stream",
          "name": "stdout",
          "text": [
            "False\n"
          ]
        }
      ]
    },
    {
      "cell_type": "code",
      "source": [
        "x = 5\n",
        "y = 3\n",
        "\n",
        "print(x != y)\n"
      ],
      "metadata": {
        "id": "yQcGVva4xTAb",
        "colab": {
          "base_uri": "https://localhost:8080/"
        },
        "outputId": "d31e11d8-afc5-4594-a4a7-d6c026089fe1"
      },
      "execution_count": null,
      "outputs": [
        {
          "output_type": "stream",
          "name": "stdout",
          "text": [
            "True\n"
          ]
        }
      ]
    },
    {
      "cell_type": "code",
      "source": [
        "x = 5\n",
        "y = 3\n",
        "\n",
        "print(x <= y)"
      ],
      "metadata": {
        "id": "WXYURHWuxTTr",
        "colab": {
          "base_uri": "https://localhost:8080/"
        },
        "outputId": "b47f16c2-ad2a-40df-c0d2-9e49247459f8"
      },
      "execution_count": null,
      "outputs": [
        {
          "output_type": "stream",
          "name": "stdout",
          "text": [
            "False\n"
          ]
        }
      ]
    },
    {
      "cell_type": "code",
      "source": [
        "x=3\n",
        "y=3\n",
        "print(x>=y)"
      ],
      "metadata": {
        "colab": {
          "base_uri": "https://localhost:8080/"
        },
        "id": "VH7MGrEGZBOi",
        "outputId": "7e6dcfbf-e85d-4892-d020-430a6b63e244"
      },
      "execution_count": null,
      "outputs": [
        {
          "output_type": "stream",
          "name": "stdout",
          "text": [
            "True\n"
          ]
        }
      ]
    },
    {
      "cell_type": "markdown",
      "source": [
        "#Logical Operators\n",
        "**Logical operators are used to combine conditional statements:**\n",
        "\n",
        "\n",
        "\n",
        "1. \"and \"\tReturns True if both statements are true----\tx < 5 and  x < 10\n",
        "2. \"or\"\tReturns True if one of the statements is true---\tx < 5 or x < 4\n",
        "3. \"not\"\tReverse the result, returns False if the result is--- true\tnot(x < 5 and x < 10)"
      ],
      "metadata": {
        "id": "9YoQOyevyF4h"
      }
    },
    {
      "cell_type": "code",
      "source": [
        "x = 5\n",
        "\n",
        "print(x > 3 and x < 10)"
      ],
      "metadata": {
        "id": "P4nTOIV1yFpK",
        "colab": {
          "base_uri": "https://localhost:8080/"
        },
        "outputId": "ba27539b-dabe-4bf3-cc2a-c9ffe0589de7"
      },
      "execution_count": null,
      "outputs": [
        {
          "output_type": "stream",
          "name": "stdout",
          "text": [
            "True\n"
          ]
        }
      ]
    },
    {
      "cell_type": "code",
      "source": [
        "x = 5\n",
        "if x > 3 and x < 10:\n",
        "  print(True)"
      ],
      "metadata": {
        "id": "7hwPQ_AsyFmK"
      },
      "execution_count": null,
      "outputs": []
    },
    {
      "cell_type": "code",
      "source": [
        "x = 5\n",
        "if x < 3 and x < 10:\n",
        "  print(True)"
      ],
      "metadata": {
        "id": "z79mq8P4Zo2c"
      },
      "execution_count": null,
      "outputs": []
    },
    {
      "cell_type": "code",
      "source": [
        "x=-5\n",
        "y=20\n",
        "if x > 0 and y > 0:\n",
        "  print(\"Both numbers are positive.\")\n",
        "elif x > 0 or y > 0:\n",
        "  print(\"At least one number is positive.\")\n",
        "else:\n",
        "  print(\"Both numbers are non-positive.\")"
      ],
      "metadata": {
        "id": "wnrX0mEryFjD",
        "colab": {
          "base_uri": "https://localhost:8080/"
        },
        "outputId": "a9f7245b-f80b-4184-fe8c-8bc52814cd64"
      },
      "execution_count": null,
      "outputs": [
        {
          "output_type": "stream",
          "name": "stdout",
          "text": [
            "At least one number is positive.\n"
          ]
        }
      ]
    },
    {
      "cell_type": "code",
      "source": [
        "x = 5\n",
        "\n",
        "print(not(x > 3 and x < 10))"
      ],
      "metadata": {
        "id": "eg7gG3LUyFgS",
        "colab": {
          "base_uri": "https://localhost:8080/"
        },
        "outputId": "9901e358-29cf-40dd-f6a2-db76e51f27a5"
      },
      "execution_count": null,
      "outputs": [
        {
          "output_type": "stream",
          "name": "stdout",
          "text": [
            "False\n"
          ]
        }
      ]
    },
    {
      "cell_type": "markdown",
      "source": [
        "# Identity Operators\n",
        "**Identity operators are used to compare the objects, not if they are equal, but if they are actually the same object, with the same memory location**\n",
        "\n",
        "1. \"is\"\tReturns True if both variables are the same object\t-----x is y\n",
        "2. \"is not\"\tReturns True if both variables are not the same object\t---x is not y"
      ],
      "metadata": {
        "id": "LiN2lxYYzbl-"
      }
    },
    {
      "cell_type": "code",
      "source": [
        "x = [\"apple\", \"banana\"]\n",
        "y = [\"apple\", \"banana\"]\n",
        "z = x\n",
        "print(y is z)"
      ],
      "metadata": {
        "id": "j_EAGfiLyFdh",
        "colab": {
          "base_uri": "https://localhost:8080/"
        },
        "outputId": "7386c01c-946d-4a30-ce9c-a336ab93b2da"
      },
      "execution_count": null,
      "outputs": [
        {
          "output_type": "stream",
          "name": "stdout",
          "text": [
            "False\n"
          ]
        }
      ]
    },
    {
      "cell_type": "code",
      "source": [
        "x = [\"apple\", \"banana\"]\n",
        "y = [\"apple\", \"banana\"]\n",
        "z = x\n",
        "print(x is not z)"
      ],
      "metadata": {
        "id": "DKzJvumiUa7-",
        "colab": {
          "base_uri": "https://localhost:8080/"
        },
        "outputId": "1ec63d47-fbd4-4d9a-a991-be8cddcc53ce"
      },
      "execution_count": null,
      "outputs": [
        {
          "output_type": "stream",
          "name": "stdout",
          "text": [
            "False\n"
          ]
        }
      ]
    },
    {
      "cell_type": "code",
      "source": [
        "x = [\"apple\", \"banana\"]\n",
        "y = [\"apple\", \"banana\"]\n",
        "z = x\n",
        "print(x is y)"
      ],
      "metadata": {
        "id": "U-xHhrXcUYKH",
        "colab": {
          "base_uri": "https://localhost:8080/"
        },
        "outputId": "73758e41-5ce1-421a-ccce-4d2d38205a88"
      },
      "execution_count": null,
      "outputs": [
        {
          "output_type": "stream",
          "name": "stdout",
          "text": [
            "False\n"
          ]
        }
      ]
    },
    {
      "cell_type": "code",
      "source": [
        "a = 5\n",
        "b = a\n",
        "\n",
        "if a is b:\n",
        "    print(\"a and b are the same object.\")\n",
        "else:\n",
        "    print(\"a and b are different objects.\")"
      ],
      "metadata": {
        "id": "yw3JQlRXyFax",
        "colab": {
          "base_uri": "https://localhost:8080/"
        },
        "outputId": "e0d6a985-9447-47f9-8571-eaf5fa9d395d"
      },
      "execution_count": null,
      "outputs": [
        {
          "output_type": "stream",
          "name": "stdout",
          "text": [
            "a and b are the same object.\n"
          ]
        }
      ]
    },
    {
      "cell_type": "markdown",
      "source": [
        "#  Membership Operators\n",
        " **Membership operators are used to test if a sequence is presented in an object:**\n",
        "\n",
        "\n",
        "1. \"in \"\t   Returns True if a sequence with the specified value is present in the object-------x in y\n",
        "2. \"not in\"\t   Returns True if a sequence with the specified value is not present in the object-----x not in y"
      ],
      "metadata": {
        "id": "Xpysk_OJ1DFg"
      }
    },
    {
      "cell_type": "code",
      "source": [
        "x = [\"apple\", \"banana\"]\n",
        "\n",
        "print(\"banana\" in x)"
      ],
      "metadata": {
        "id": "65cFHbj11Dc8",
        "colab": {
          "base_uri": "https://localhost:8080/"
        },
        "outputId": "add2d6ea-0998-4e37-e4d3-8372c6c03fca"
      },
      "execution_count": null,
      "outputs": [
        {
          "output_type": "stream",
          "name": "stdout",
          "text": [
            "True\n"
          ]
        }
      ]
    },
    {
      "cell_type": "code",
      "source": [
        "my_string = \"Hello, World!\"\n",
        "\n",
        "if \"H\" in my_string:\n",
        "    print(\"'H' is present in the string.\")\n",
        "else:\n",
        "    print(\"'H' is not present in the string.\")"
      ],
      "metadata": {
        "id": "AgRDXO9g1u6u"
      },
      "execution_count": null,
      "outputs": []
    },
    {
      "cell_type": "code",
      "source": [
        "main_string = \"This is a test string.\"\n",
        "substring = \"test\"\n",
        "\n",
        "if substring in main_string:\n",
        "    print(\"The substring  is present in the main string.\")\n",
        "else:\n",
        "    print(\"The substring  is not present in the main string\")\n"
      ],
      "metadata": {
        "id": "dih0kd4a11cP"
      },
      "execution_count": null,
      "outputs": []
    },
    {
      "cell_type": "markdown",
      "source": [
        "# Bitwise Operators\n",
        "**Bitwise operators are used to compare (binary) numbers:**\n",
        "1. \"&\" NAME :\tAND\t---Sets each bit to 1 if both bits are 1\t----x & y\n",
        "2. '|'\tNAME :\tOR\tSets each bit to 1 if one of two bits is 1\t----x | y\n",
        "3. \"^\"\tNAME :XOR\t---Sets each bit to 1 if only one of two bits is 1\t----x ^ y\n",
        "4. \"~\"\tNAME :NOT\tInverts all the bits\t----~x\n",
        "5. \"<<\"\tNAME :Zero fill left shift\t---Shift left by pushing zeros in from the right and let the leftmost bits fall off\t----x << 2\n",
        "6. \">>\" NAME :Signed right shift\t---Shift right by pushing copies of the leftmost bit in from the left, and let the rightmost bits fall off----\tx >> 2"
      ],
      "metadata": {
        "id": "5VSW35dM2iZj"
      }
    },
    {
      "cell_type": "code",
      "source": [
        "'''The & operator compares each bit\n",
        "and set it to 1 if both are 1,\n",
        "otherwise it is set to 0:'''\n",
        "print(6 & 3)"
      ],
      "metadata": {
        "id": "uJglr_D32Up6"
      },
      "execution_count": null,
      "outputs": []
    },
    {
      "cell_type": "code",
      "source": [
        "'''The | operator compares each bit and set it\n",
        " to 1 if one or both is 1,\n",
        "otherwise it is set to 0:'''\n",
        "print(6 | 3)"
      ],
      "metadata": {
        "id": "kQq0bpSo2UjC"
      },
      "execution_count": null,
      "outputs": []
    },
    {
      "cell_type": "code",
      "source": [
        "'''The ^ operator compares each bit\n",
        "and set it to 1 if only one is 1,\n",
        " otherwise (if both are 1 or both are 0)\n",
        " it is set to 0:'''\n",
        "\n",
        "print(6 ^ 3)"
      ],
      "metadata": {
        "id": "fYuR9SS52Ufx"
      },
      "execution_count": null,
      "outputs": []
    },
    {
      "cell_type": "markdown",
      "source": [
        "**WHAT IS OPERATOR PRECEDENCE??**"
      ],
      "metadata": {
        "id": "q4VlBuQ02Vcc"
      }
    },
    {
      "cell_type": "code",
      "source": [
        "print((6 + 3) - (6 + 3))\n"
      ],
      "metadata": {
        "id": "mEoCaHAk2aVs"
      },
      "execution_count": null,
      "outputs": []
    },
    {
      "cell_type": "code",
      "source": [
        "print(100 + 5 * 3)"
      ],
      "metadata": {
        "id": "2o1yh6G04aeK"
      },
      "execution_count": null,
      "outputs": []
    },
    {
      "cell_type": "markdown",
      "source": [
        "#  Strings\n",
        "**In Python, a string is a sequence of characters enclosed within either single quotes (') or double quotes (\"). Strings are immutable, meaning once they are created, their content cannot be modified. Here's a detailed explanation with examples:**"
      ],
      "metadata": {
        "id": "sPEqoJol4ozV"
      }
    },
    {
      "cell_type": "markdown",
      "source": [
        "**Creating strings**"
      ],
      "metadata": {
        "id": "aAby8dee6dEY"
      }
    },
    {
      "cell_type": "code",
      "source": [
        "# Creating strings\n",
        "single_quoted_string = 'Hello, World!'\n",
        "double_quoted_string = \"Hello, World!\"\n",
        "multiline_string = '''This is a multiline\n",
        "string in Python.'''\n"
      ],
      "metadata": {
        "id": "cmDBGE_F5Ryv"
      },
      "execution_count": null,
      "outputs": []
    },
    {
      "cell_type": "code",
      "source": [
        "print(\"Hello\")\n",
        "print('Hello')"
      ],
      "metadata": {
        "id": "L6FxZZ5Q5Sdz"
      },
      "execution_count": null,
      "outputs": []
    },
    {
      "cell_type": "markdown",
      "source": [
        "**Assign String to a Variable**"
      ],
      "metadata": {
        "id": "wph85Jmy5zWG"
      }
    },
    {
      "cell_type": "code",
      "source": [
        "a = \"Hello\"\n",
        "print(a)"
      ],
      "metadata": {
        "id": "31uqfwiE5SYo"
      },
      "execution_count": null,
      "outputs": []
    },
    {
      "cell_type": "markdown",
      "source": [
        "**Multiline Strings**"
      ],
      "metadata": {
        "id": "dpi8r_vc52uN"
      }
    },
    {
      "cell_type": "code",
      "source": [
        "a = \"\"\"Lorem ipsum dolor sit amet,\n",
        "consectetur adipiscing elit,\n",
        "sed do eiusmod tempor incididunt\n",
        "ut labore et dolore magna aliqua.\"\"\"\n",
        "print(a)"
      ],
      "metadata": {
        "id": "EYj0BIc35SUw"
      },
      "execution_count": null,
      "outputs": []
    },
    {
      "cell_type": "markdown",
      "source": [
        "# Indexing\n",
        "1. Indexing refers to the process of accessing individual elements within a data structure using their position or index.\n",
        "2. In Python, indexing starts from 0, meaning the first element of a sequence has an index of 0, the second element has an index of 1, and so on.\n",
        "3. Additionally, negative indexing allows you to access elements from the end of the sequence, with -1 representing the last element, -2 representing the second-to-last element, and so forth."
      ],
      "metadata": {
        "id": "Cz4GRwih57_j"
      }
    },
    {
      "cell_type": "markdown",
      "source": [
        "**Accessing Characters in a String:**\n",
        "1. Individual characters within a string can be accessed using indexing:"
      ],
      "metadata": {
        "id": "5NlqCYeL6pty"
      }
    },
    {
      "cell_type": "code",
      "source": [
        "A=\"KIET\"\n",
        "print(A[0])\n",
        "print(A[-1])\n"
      ],
      "metadata": {
        "id": "po006Efw65rv"
      },
      "execution_count": null,
      "outputs": []
    },
    {
      "cell_type": "code",
      "source": [
        "# Accessing characters in a string\n",
        "my_string = \"Hello, World!\"\n",
        "\n",
        "print(my_string[0])\n",
        "print(my_string[7])\n",
        "print(my_string[-1])\n"
      ],
      "metadata": {
        "id": "VpGNDWAd55wN",
        "colab": {
          "base_uri": "https://localhost:8080/"
        },
        "outputId": "6eececa3-131e-4f24-9f03-12d3c24f17f8"
      },
      "execution_count": null,
      "outputs": [
        {
          "output_type": "stream",
          "name": "stdout",
          "text": [
            "H\n",
            "W\n",
            "!\n"
          ]
        }
      ]
    },
    {
      "cell_type": "markdown",
      "source": [
        "# Slicing\n",
        "**You can return a range of characters by using the slice syntax.\n",
        "\n",
        "Specify the start index and the end index, separated by a colon, to return a part of the string.**\n",
        "1. sequence[start:stop:step]"
      ],
      "metadata": {
        "id": "Ww7K7fiR7QbX"
      }
    },
    {
      "cell_type": "code",
      "source": [
        "my_string = \"Hello, World!\"\n",
        "print(my_string[2:5])"
      ],
      "metadata": {
        "id": "WpMTjpGU55tc"
      },
      "execution_count": null,
      "outputs": []
    },
    {
      "cell_type": "code",
      "source": [
        "my_string = \"Hello, World!\"\n",
        "print(my_string[:5])"
      ],
      "metadata": {
        "id": "DvYdlsY28Kew"
      },
      "execution_count": null,
      "outputs": []
    },
    {
      "cell_type": "code",
      "source": [
        "my_string = \"Hello, World!\"\n",
        "\n",
        "print(my_string[7:])"
      ],
      "metadata": {
        "id": "JNPpJlXy8KcG"
      },
      "execution_count": null,
      "outputs": []
    },
    {
      "cell_type": "code",
      "source": [
        "my_string = \"Hello, World!\"\n",
        "print(my_string[2:5:1])"
      ],
      "metadata": {
        "id": "pTOcAqYK8aFI",
        "colab": {
          "base_uri": "https://localhost:8080/"
        },
        "outputId": "da26dd38-046a-46ef-a9ca-018291fbf5d0"
      },
      "execution_count": null,
      "outputs": [
        {
          "output_type": "stream",
          "name": "stdout",
          "text": [
            "llo\n"
          ]
        }
      ]
    },
    {
      "cell_type": "code",
      "source": [
        "my_string = \"Hello, World!\"\n",
        "print(my_string[2:12:1])"
      ],
      "metadata": {
        "id": "qqMEXebG8cup",
        "colab": {
          "base_uri": "https://localhost:8080/"
        },
        "outputId": "1ecf5f9a-8d7f-44f1-ecb0-f31071e0f881"
      },
      "execution_count": null,
      "outputs": [
        {
          "output_type": "stream",
          "name": "stdout",
          "text": [
            "llo, World\n"
          ]
        }
      ]
    },
    {
      "cell_type": "code",
      "source": [
        "my_string = \"Hello, World!\"\n",
        "sliced_string = my_string[1:10:2]\n",
        "print(sliced_string)"
      ],
      "metadata": {
        "id": "SfUNHXnK8x0y",
        "colab": {
          "base_uri": "https://localhost:8080/"
        },
        "outputId": "18d8b2f8-26ac-419e-b1f5-e6a64ab1ccce"
      },
      "execution_count": null,
      "outputs": [
        {
          "output_type": "stream",
          "name": "stdout",
          "text": [
            "el,Wr\n"
          ]
        }
      ]
    },
    {
      "cell_type": "markdown",
      "source": [
        "**Reversing the string.**"
      ],
      "metadata": {
        "id": "TrvozQso70D8"
      }
    },
    {
      "cell_type": "code",
      "source": [
        "my_string = \"Kiet college\"\n",
        "print(my_string[::-1])"
      ],
      "metadata": {
        "id": "VOM3He9l55nP",
        "colab": {
          "base_uri": "https://localhost:8080/"
        },
        "outputId": "2bd5305c-92b7-4df7-b626-e20b63abfb38"
      },
      "execution_count": null,
      "outputs": [
        {
          "output_type": "stream",
          "name": "stdout",
          "text": [
            "egelloc teiK\n"
          ]
        }
      ]
    },
    {
      "cell_type": "markdown",
      "source": [
        "**String Concatenation:**\n",
        "Strings can be concatenated using the + operator:"
      ],
      "metadata": {
        "id": "To0KYAjJ9BEl"
      }
    },
    {
      "cell_type": "code",
      "source": [
        "# String concatenation\n",
        "str1 = \"Hello\"\n",
        "str2 = \"World\"\n",
        "\n",
        "concatenated_string = str1 + \", \" + str2\n",
        "print(concatenated_string)\n"
      ],
      "metadata": {
        "id": "iN31idww55kG",
        "colab": {
          "base_uri": "https://localhost:8080/"
        },
        "outputId": "676d2ba9-d050-4b24-f0c3-bec576a0eb9f"
      },
      "execution_count": null,
      "outputs": [
        {
          "output_type": "stream",
          "name": "stdout",
          "text": [
            "Hello, World\n"
          ]
        }
      ]
    },
    {
      "cell_type": "markdown",
      "source": [
        "**String Formatting:\n",
        "Python supports different methods for string formatting:**"
      ],
      "metadata": {
        "id": "tVHA7lT59TaO"
      }
    },
    {
      "cell_type": "code",
      "source": [
        "# String formatting\n",
        "name = \"Alice\"\n",
        "age = 30\n",
        "\n",
        "print(\"My name is {} and I am {} years old.\".format(name, age))\n",
        "\n",
        "\n",
        "print(f\"My name is {name} and I am {age} years old.\")\n"
      ],
      "metadata": {
        "id": "s1-LNicX9XMw",
        "colab": {
          "base_uri": "https://localhost:8080/"
        },
        "outputId": "f605f257-fbd9-4e0e-cb67-2b8202c2537b"
      },
      "execution_count": null,
      "outputs": [
        {
          "output_type": "stream",
          "name": "stdout",
          "text": [
            "My name is Alice and I am 30 years old.\n",
            "My name is Alice and I am 30 years old.\n"
          ]
        }
      ]
    },
    {
      "cell_type": "markdown",
      "source": [
        "**String Methods:**\n",
        "Python provides many built-in methods for working with strings:"
      ],
      "metadata": {
        "id": "n6LQ2LZM9yXa"
      }
    },
    {
      "cell_type": "markdown",
      "source": [
        "**len() -returns the length of a string:**"
      ],
      "metadata": {
        "id": "UoDeN-2X-sbJ"
      }
    },
    {
      "cell_type": "code",
      "source": [
        "# String methods\n",
        "my_string = \"Hello, World!\"\n",
        "print(len(my_string))\n"
      ],
      "metadata": {
        "id": "ohu_-Gi396mr",
        "colab": {
          "base_uri": "https://localhost:8080/"
        },
        "outputId": "16e7f8b2-62a3-4e27-b6fd-d06641ff5bfe"
      },
      "execution_count": null,
      "outputs": [
        {
          "output_type": "stream",
          "name": "stdout",
          "text": [
            "13\n"
          ]
        }
      ]
    },
    {
      "cell_type": "markdown",
      "source": [
        "**upper(): Converts all characters in a string to uppercase.**"
      ],
      "metadata": {
        "id": "zFCio9mT-0Wi"
      }
    },
    {
      "cell_type": "code",
      "source": [
        "my_string = \"Hello, World!\"\n",
        "print(my_string.upper())\n"
      ],
      "metadata": {
        "id": "CnW_Agnu96Yn",
        "colab": {
          "base_uri": "https://localhost:8080/"
        },
        "outputId": "55ce4804-efcd-4b1a-85ee-02f88c1082c6"
      },
      "execution_count": null,
      "outputs": [
        {
          "output_type": "stream",
          "name": "stdout",
          "text": [
            "HELLO, WORLD!\n"
          ]
        }
      ]
    },
    {
      "cell_type": "markdown",
      "source": [
        "**lower(): Converts all characters in a string to lowercase.**"
      ],
      "metadata": {
        "id": "t3STwa-L-2Mk"
      }
    },
    {
      "cell_type": "code",
      "source": [
        "my_string = \"Hello, World!\"\n",
        "print(my_string.lower())\n"
      ],
      "metadata": {
        "id": "4UySHMcP96Pc",
        "colab": {
          "base_uri": "https://localhost:8080/"
        },
        "outputId": "5c0bb75c-4545-43d5-a77f-b6db35a41450"
      },
      "execution_count": null,
      "outputs": [
        {
          "output_type": "stream",
          "name": "stdout",
          "text": [
            "hello, world!\n"
          ]
        }
      ]
    },
    {
      "cell_type": "markdown",
      "source": [
        "**split(): Splits a string into a list of substrings based on a delimiter.**"
      ],
      "metadata": {
        "id": "3QqUnTbk-1oC"
      }
    },
    {
      "cell_type": "code",
      "source": [
        "my_string = \"Hello World!\"\n",
        "print(my_string.split(', '))"
      ],
      "metadata": {
        "id": "5tzyB8KM96Jx",
        "colab": {
          "base_uri": "https://localhost:8080/"
        },
        "outputId": "dff367ef-b0ee-4aa9-c995-bc9eb0f4c552"
      },
      "execution_count": null,
      "outputs": [
        {
          "output_type": "stream",
          "name": "stdout",
          "text": [
            "['Hello World!']\n"
          ]
        }
      ]
    },
    {
      "cell_type": "markdown",
      "source": [
        "**capitalize(): Converts the first character of a string to uppercase and the rest to lowercase.t**"
      ],
      "metadata": {
        "id": "N6zc7OXn-8S8"
      }
    },
    {
      "cell_type": "code",
      "source": [
        "# capitalize()\n",
        "my_string = \"hello, world!\"\n",
        "print(my_string.capitalize())  # Output: 'Hello, world!'\n"
      ],
      "metadata": {
        "id": "rCvN0Qoa96FT",
        "colab": {
          "base_uri": "https://localhost:8080/"
        },
        "outputId": "df854924-f5a1-460b-ec8c-2b5ed7462f8d"
      },
      "execution_count": null,
      "outputs": [
        {
          "output_type": "stream",
          "name": "stdout",
          "text": [
            "Hello, world!\n"
          ]
        }
      ]
    },
    {
      "cell_type": "markdown",
      "source": [
        "**replace(): Replaces occurrences of a substring within a string with another substring.**"
      ],
      "metadata": {
        "id": "fHc5mgR__HFT"
      }
    },
    {
      "cell_type": "code",
      "source": [
        "# replace()\n",
        "my_string = \"Hello, World!\"\n",
        "print(my_string.replace('Hello', 'Hi'))  # Output: 'Hi, World!'\n"
      ],
      "metadata": {
        "id": "8iLdjWDz959F",
        "colab": {
          "base_uri": "https://localhost:8080/"
        },
        "outputId": "7be5e8a7-6312-4391-e673-2df3e7aed1bd"
      },
      "execution_count": null,
      "outputs": [
        {
          "output_type": "stream",
          "name": "stdout",
          "text": [
            "Hi, World!\n"
          ]
        }
      ]
    },
    {
      "cell_type": "markdown",
      "source": [
        "**strip(): Removes leading and trailing whitespace characters from a string.**"
      ],
      "metadata": {
        "id": "_HazNfiT_N1t"
      }
    },
    {
      "cell_type": "code",
      "source": [
        "# strip()\n",
        "my_string = \"   Hello, World!   \"\n",
        "print(my_string.strip())  # Output: 'Hello, World!'\n"
      ],
      "metadata": {
        "id": "dS-duc2x956G",
        "colab": {
          "base_uri": "https://localhost:8080/"
        },
        "outputId": "2feda51e-78d8-41bc-a5ed-80baabf84edb"
      },
      "execution_count": null,
      "outputs": [
        {
          "output_type": "stream",
          "name": "stdout",
          "text": [
            "Hello, World!\n"
          ]
        }
      ]
    },
    {
      "cell_type": "markdown",
      "source": [
        "**startswith(): Checks if a string starts with a specified prefix.**"
      ],
      "metadata": {
        "id": "UWqmS2yh_OO5"
      }
    },
    {
      "cell_type": "code",
      "source": [
        "# startswith()\n",
        "my_string = \"Hello, World!\"\n",
        "print(my_string.startswith('Hello'))  # Output: True\n"
      ],
      "metadata": {
        "id": "L-ojaeeP_PM_",
        "colab": {
          "base_uri": "https://localhost:8080/"
        },
        "outputId": "393046c4-04fe-4501-b4c4-23009a5b7543"
      },
      "execution_count": null,
      "outputs": [
        {
          "output_type": "stream",
          "name": "stdout",
          "text": [
            "True\n"
          ]
        }
      ]
    },
    {
      "cell_type": "markdown",
      "source": [
        "**endswith(): Checks if a string ends with a specified suffix.**"
      ],
      "metadata": {
        "id": "LGEtCX1v_bcW"
      }
    },
    {
      "cell_type": "code",
      "source": [
        "# endswith()\n",
        "my_string = \"Hello, World!\"\n",
        "print(my_string.endswith('World!'))  # Output: True\n"
      ],
      "metadata": {
        "id": "cq4gymYd_cZG",
        "colab": {
          "base_uri": "https://localhost:8080/"
        },
        "outputId": "0e53aa15-a4d0-48e0-cf63-67129078e6bc"
      },
      "execution_count": null,
      "outputs": [
        {
          "output_type": "stream",
          "name": "stdout",
          "text": [
            "True\n"
          ]
        }
      ]
    },
    {
      "cell_type": "markdown",
      "source": [
        "**count(): Returns the number of occurrences of a substring within a string.**"
      ],
      "metadata": {
        "id": "PEokKXQEAEk8"
      }
    },
    {
      "cell_type": "code",
      "source": [
        "# count()\n",
        "my_string = \"Hello, World!\"\n",
        "print(my_string.count('l'))  # Output: 3 (number of occurrences of 'l')\n"
      ],
      "metadata": {
        "id": "MeNEHFg5_9xg",
        "colab": {
          "base_uri": "https://localhost:8080/"
        },
        "outputId": "b68bd8a3-0c66-4a47-db1f-3d9b962de0ec"
      },
      "execution_count": null,
      "outputs": [
        {
          "output_type": "stream",
          "name": "stdout",
          "text": [
            "3\n"
          ]
        }
      ]
    },
    {
      "cell_type": "markdown",
      "source": [
        "**find(): Returns the index of the first occurrence of a substring within a string, or -1 if the substring is not found.**"
      ],
      "metadata": {
        "id": "2G5QmNdiAEEk"
      }
    },
    {
      "cell_type": "code",
      "source": [
        "# find()\n",
        "my_string = \"Hello, World!\"\n",
        "print(my_string.find('o'))\n"
      ],
      "metadata": {
        "id": "sL4i5Gm4_9tK",
        "colab": {
          "base_uri": "https://localhost:8080/"
        },
        "outputId": "1c839d80-c249-48a8-a002-574e0e910791"
      },
      "execution_count": null,
      "outputs": [
        {
          "output_type": "stream",
          "name": "stdout",
          "text": [
            "4\n"
          ]
        }
      ]
    },
    {
      "cell_type": "code",
      "source": [
        "# find()\n",
        "my_string = \"Hello, World!\"\n",
        "print(my_string.find('a'))\n"
      ],
      "metadata": {
        "colab": {
          "base_uri": "https://localhost:8080/"
        },
        "id": "dE-48SQ5YIgx",
        "outputId": "35c28546-8d25-434a-e6ae-d167dcccfedc"
      },
      "execution_count": null,
      "outputs": [
        {
          "output_type": "stream",
          "name": "stdout",
          "text": [
            "-1\n"
          ]
        }
      ]
    },
    {
      "cell_type": "markdown",
      "source": [
        "**index(): Returns the index of the first occurrence of a substring within a string, or raises a ValueError if the substring is not found.**"
      ],
      "metadata": {
        "id": "qtdf8WSsADp8"
      }
    },
    {
      "cell_type": "code",
      "source": [
        "# index()\n",
        "my_string = \"Hello, World!\"\n",
        "print(my_string.index('o'))  # Output: 4 (index of the first occurrence of 'o')\n"
      ],
      "metadata": {
        "id": "spS2NEvd_9na",
        "colab": {
          "base_uri": "https://localhost:8080/"
        },
        "outputId": "f412d1b3-a38e-44e2-aaf5-1622938bef52"
      },
      "execution_count": null,
      "outputs": [
        {
          "output_type": "stream",
          "name": "stdout",
          "text": [
            "4\n"
          ]
        }
      ]
    },
    {
      "cell_type": "markdown",
      "source": [
        "**swapcase(): Swaps the case of each character in a string (converts lowercase letters to uppercase and vice versa).**"
      ],
      "metadata": {
        "id": "cYyKb1MxACsj"
      }
    },
    {
      "cell_type": "code",
      "source": [
        "# swapcase()\n",
        "my_string = \"Hello, World!\"\n",
        "print(my_string.swapcase())  # Output: 'hELLO, wORLD!'\n"
      ],
      "metadata": {
        "id": "g0osmO5v_9fK",
        "colab": {
          "base_uri": "https://localhost:8080/"
        },
        "outputId": "a95f6597-3c53-4052-df46-fbf212f32714"
      },
      "execution_count": null,
      "outputs": [
        {
          "output_type": "stream",
          "name": "stdout",
          "text": [
            "hELLO, wORLD!\n"
          ]
        }
      ]
    },
    {
      "cell_type": "markdown",
      "source": [
        "**CODE -4 FIZZBUZZ**\n",
        "\n",
        "Write a code to print \"FIZZ\" if numbere divisible by 3 and \"BUZZ\" if th same number divisible by 5 and print \"FIZZBUZZ\" if number divisible by both 3&5."
      ],
      "metadata": {
        "id": "ojx8RKGzBz_a"
      }
    },
    {
      "cell_type": "code",
      "source": [
        "a= int(input())\n",
        "if a%3==0 and a%5==0:\n",
        "  print(\"FIZZBUZZ\")\n",
        "elif a%3==0:\n",
        "  print(\"FIZZ\")\n",
        "elif a%5==0:\n",
        "  print(\"BUZZ\")"
      ],
      "metadata": {
        "id": "vYtt-4e_B-Mn",
        "colab": {
          "base_uri": "https://localhost:8080/"
        },
        "outputId": "bb8c974d-0d54-4d74-fbd5-87cdbda8862d"
      },
      "execution_count": null,
      "outputs": [
        {
          "output_type": "stream",
          "name": "stdout",
          "text": [
            "15\n",
            "FIZZBUZZ\n"
          ]
        }
      ]
    },
    {
      "cell_type": "markdown",
      "source": [
        "# DAY 7\n",
        "**Python Lists**"
      ],
      "metadata": {
        "id": "0EvVnocLEvRo"
      }
    },
    {
      "cell_type": "code",
      "source": [
        "mylist = [\"apple\", \"banana\", \"cherry\"]"
      ],
      "metadata": {
        "id": "TQTYJ-IwEu_X"
      },
      "execution_count": null,
      "outputs": []
    },
    {
      "cell_type": "markdown",
      "source": [
        "**Lists are used to store multiple items in a single variable.Lists are one of 4 built-in data types in Python used to store collections of data**\n"
      ],
      "metadata": {
        "id": "0WQTC331FNC0"
      }
    },
    {
      "cell_type": "markdown",
      "source": [
        "**Lists are created using square brackets**"
      ],
      "metadata": {
        "id": "epbK4CcOFv_y"
      }
    },
    {
      "cell_type": "code",
      "source": [
        "thislist = [\"apple\", \"banana\", \"cherry\"]\n",
        "print(thislist)"
      ],
      "metadata": {
        "id": "V5Ehx5ihEu7-"
      },
      "execution_count": null,
      "outputs": []
    },
    {
      "cell_type": "markdown",
      "source": [
        "**Allow Duplicates**\n",
        "\n",
        "Since lists are indexed, lists can have items with the same value:"
      ],
      "metadata": {
        "id": "9g2wFP1HGB4A"
      }
    },
    {
      "cell_type": "code",
      "source": [
        "thislist = [\"apple\", \"banana\", \"cherry\", \"apple\", \"cherry\"]\n",
        "print(thislist)"
      ],
      "metadata": {
        "id": "aeNmY7ZjEu4Y"
      },
      "execution_count": null,
      "outputs": []
    },
    {
      "cell_type": "markdown",
      "source": [
        "**List Items - Data Types**\n",
        "\n",
        "List items can be of any data type:"
      ],
      "metadata": {
        "id": "Mw9WY0eeGKkV"
      }
    },
    {
      "cell_type": "code",
      "source": [
        "list1 = [\"apple\", \"banana\", \"cherry\"]\n",
        "list2 = [1, 5, 7, 9, 3]\n",
        "list3 = [True, False, False]"
      ],
      "metadata": {
        "id": "LefaCBrTEu1a"
      },
      "execution_count": null,
      "outputs": []
    },
    {
      "cell_type": "markdown",
      "source": [
        "**The list() Constructor**\n",
        "\n",
        "It is also possible to use the list() constructor when creating a new list."
      ],
      "metadata": {
        "id": "503ZZGy6GbvN"
      }
    },
    {
      "cell_type": "code",
      "source": [
        "thislist = list((\"apple\", \"banana\", \"cherry\")) # note the double round-brackets\n",
        "print(thislist)"
      ],
      "metadata": {
        "id": "nTKouSw4Euyh"
      },
      "execution_count": null,
      "outputs": []
    },
    {
      "cell_type": "markdown",
      "source": [
        "**Python Collections (Arrays)**\n",
        "\n",
        "There are four collection data types in the Python programming language:\n",
        "\n",
        "\n",
        "* List is a collection which is ordered and changeable. Allows duplicate members.\n",
        "* Tuple is a collection which is ordered and unchangeable. Allows duplicate members.\n",
        "* Set is a collection which is unordered, unchangeable*, and unindexed. No duplicate members.\n",
        "* Dictionary is a collection which is ordered** and changeable. No duplicate members.\n"
      ],
      "metadata": {
        "id": "npwUmPy2GmgE"
      }
    },
    {
      "cell_type": "markdown",
      "source": [
        "**Changeable**\n",
        "\n",
        "The list is changeable, meaning that we can change, add, and remove items in a list after it has been created"
      ],
      "metadata": {
        "id": "1MUQEShBHMoP"
      }
    },
    {
      "cell_type": "markdown",
      "source": [
        "**Ordered**\n",
        "\n",
        "When we say that lists are ordered, it means that the items have a defined order, and that order will not change.\n",
        "\n",
        "If you add new items to a list, the new items will be placed at the end of the list."
      ],
      "metadata": {
        "id": "C1R4zcytHT2V"
      }
    },
    {
      "cell_type": "markdown",
      "source": [
        "**List Items**\n",
        "\n",
        "List items are ordered, changeable, and allow duplicate values.\n",
        "\n",
        "List items are indexed, the first item has index [0], the second item has index [1] etc."
      ],
      "metadata": {
        "id": "M9VhcqnxHbK8"
      }
    },
    {
      "cell_type": "markdown",
      "source": [
        "**Access Items**"
      ],
      "metadata": {
        "id": "lmBkqP5uHvz1"
      }
    },
    {
      "cell_type": "code",
      "source": [
        "thislist = [\"apple\", \"banana\", \"cherry\"]\n",
        "print(thislist[1])"
      ],
      "metadata": {
        "id": "8gkKiNzWEtrM"
      },
      "execution_count": null,
      "outputs": []
    },
    {
      "cell_type": "code",
      "source": [
        "thislist = [\"apple\", \"banana\", \"cherry\"]\n",
        "print(thislist[-1])"
      ],
      "metadata": {
        "id": "lMXeboA6ICwc"
      },
      "execution_count": null,
      "outputs": []
    },
    {
      "cell_type": "code",
      "source": [
        "thislist = [\"apple\", \"banana\", \"cherry\", \"orange\", \"kiwi\", \"melon\", \"mango\"]\n",
        "print(thislist[2:5])"
      ],
      "metadata": {
        "id": "z6OQT2wsIHuv"
      },
      "execution_count": null,
      "outputs": []
    },
    {
      "cell_type": "code",
      "source": [
        "thislist = [\"apple\", \"banana\", \"cherry\", \"orange\", \"kiwi\", \"melon\", \"mango\"]\n",
        "print(thislist[:4])"
      ],
      "metadata": {
        "id": "KZYSpc4iIKk8"
      },
      "execution_count": null,
      "outputs": []
    },
    {
      "cell_type": "code",
      "source": [
        "thislist = [\"apple\", \"banana\", \"cherry\", \"orange\", \"kiwi\", \"melon\", \"mango\"]\n",
        "print(thislist[2:])"
      ],
      "metadata": {
        "id": "Kribk96ZIO7I"
      },
      "execution_count": null,
      "outputs": []
    },
    {
      "cell_type": "code",
      "source": [
        "thislist = [\"apple\", \"banana\", \"cherry\", \"orange\", \"kiwi\", \"melon\", \"mango\"]\n",
        "print(thislist[-4:-1])"
      ],
      "metadata": {
        "id": "Zmla8HMXIRtC"
      },
      "execution_count": null,
      "outputs": []
    },
    {
      "cell_type": "markdown",
      "source": [
        "**Check if Item Exists**\n",
        "\n",
        "To determine if a specified item is present in a list use the in keyword"
      ],
      "metadata": {
        "id": "u1zVmherIVYn"
      }
    },
    {
      "cell_type": "code",
      "source": [
        "thislist = [\"apple\", \"banana\", \"cherry\"]\n",
        "if \"apple\" in thislist:\n",
        "  print(\"Yes, 'apple' is in the fruits list\")"
      ],
      "metadata": {
        "colab": {
          "base_uri": "https://localhost:8080/"
        },
        "id": "QD_mUe5bIu8J",
        "outputId": "5beca6a3-1fac-48c2-af5a-2d864229129c"
      },
      "execution_count": null,
      "outputs": [
        {
          "output_type": "stream",
          "name": "stdout",
          "text": [
            "Yes, 'apple' is in the fruits list\n"
          ]
        }
      ]
    },
    {
      "cell_type": "markdown",
      "source": [
        "**Change Item Value**\n",
        "\n",
        "To change the value of a specific item, refer to the index number:"
      ],
      "metadata": {
        "id": "2v3t52SYI7rl"
      }
    },
    {
      "cell_type": "code",
      "source": [
        "thislist = [\"apple\", \"banana\", \"cherry\"]\n",
        "thislist[1] = \"blackcurrant\"\n",
        "print(thislist)"
      ],
      "metadata": {
        "colab": {
          "base_uri": "https://localhost:8080/"
        },
        "id": "iCjHbZLPJLuF",
        "outputId": "d6d9b4e5-8c1b-42fd-f311-0e1d85f6b363"
      },
      "execution_count": null,
      "outputs": [
        {
          "output_type": "stream",
          "name": "stdout",
          "text": [
            "['apple', 'blackcurrant', 'cherry']\n"
          ]
        }
      ]
    },
    {
      "cell_type": "markdown",
      "source": [
        "**Change a Range of Item Values**\n",
        "\n",
        "To change the value of items within a specific range, define a list with the new values, and refer to the range of index numbers where you want to insert the new values:"
      ],
      "metadata": {
        "id": "FgVdQPbEJRaP"
      }
    },
    {
      "cell_type": "code",
      "source": [
        "thislist = [\"apple\", \"banana\", \"cherry\", \"orange\", \"kiwi\", \"mango\"]\n",
        "thislist[1:3] = [\"blackcurrant\", \"watermelon\"]\n",
        "print(thislist)"
      ],
      "metadata": {
        "id": "tEb9jC9MJXQx"
      },
      "execution_count": null,
      "outputs": []
    },
    {
      "cell_type": "code",
      "source": [
        "#Join Two Lists\n",
        "list1 = [\"a\", \"b\", \"c\"]\n",
        "list2 = [1, 2, 3]\n",
        "\n",
        "list3 = list1 + list2\n",
        "print(list3)"
      ],
      "metadata": {
        "id": "bEbRZOmDOFnk"
      },
      "execution_count": null,
      "outputs": []
    },
    {
      "cell_type": "markdown",
      "source": [
        "**Loop Through a List**\n",
        "You can loop through the list items by using a for loop:"
      ],
      "metadata": {
        "id": "7qu1xumN_wW-"
      }
    },
    {
      "cell_type": "code",
      "source": [
        "thislist = [\"apple\", \"banana\", \"cherry\"]\n",
        "for x in thislist:\n",
        "  print(x)"
      ],
      "metadata": {
        "id": "PO-GZ-AP_31_"
      },
      "execution_count": null,
      "outputs": []
    },
    {
      "cell_type": "code",
      "source": [
        "thislist = [\"apple\", \"banana\", \"cherry\"]\n",
        "for i in range(len(thislist)):\n",
        "  print(thislist[i])"
      ],
      "metadata": {
        "id": "A-InrN2x_8G5"
      },
      "execution_count": null,
      "outputs": []
    },
    {
      "cell_type": "markdown",
      "source": [
        "**Looping Using List Comprehension**\n",
        "List Comprehension offers the shortest syntax for looping through lists:"
      ],
      "metadata": {
        "id": "4-AaNP2LACvw"
      }
    },
    {
      "cell_type": "code",
      "source": [
        "thislist = [\"apple\", \"banana\", \"cherry\"]\n",
        "[print(x) for x in thislist]"
      ],
      "metadata": {
        "id": "3tZ3gbLvAIKd"
      },
      "execution_count": null,
      "outputs": []
    },
    {
      "cell_type": "code",
      "source": [
        "a=10\n",
        "[print(i)for i in range(1,a+1)]"
      ],
      "metadata": {
        "id": "zChc3TASALLh"
      },
      "execution_count": null,
      "outputs": []
    },
    {
      "cell_type": "markdown",
      "source": [
        "**List Methods**\n"
      ],
      "metadata": {
        "id": "Y7RuDeyyJy0i"
      }
    },
    {
      "cell_type": "markdown",
      "source": [
        "**append() - Adds an element at the end of the list**"
      ],
      "metadata": {
        "id": "n2s4S-8FKvmY"
      }
    },
    {
      "cell_type": "code",
      "source": [
        "my_list = [1, 2, 3, 4, 5]\n",
        "my_list.append(6)\n",
        "print(\"After append():\", my_list)"
      ],
      "metadata": {
        "colab": {
          "base_uri": "https://localhost:8080/"
        },
        "id": "TYLHYXHIK6Ac",
        "outputId": "f9ab5842-6e28-4b42-fdb9-659978c9b506"
      },
      "execution_count": null,
      "outputs": [
        {
          "output_type": "stream",
          "name": "stdout",
          "text": [
            "After append(): [1, 2, 3, 4, 5, 6]\n"
          ]
        }
      ]
    },
    {
      "cell_type": "markdown",
      "source": [
        "**clear() - Removes all the elements from the list**"
      ],
      "metadata": {
        "id": "YfxwdH21Kvsl"
      }
    },
    {
      "cell_type": "code",
      "source": [
        "my_list.clear()\n",
        "print(my_list)"
      ],
      "metadata": {
        "colab": {
          "base_uri": "https://localhost:8080/"
        },
        "id": "BJiAgCB-LLZ5",
        "outputId": "1005c04b-bf49-4aff-8fd4-8baa017714c4"
      },
      "execution_count": null,
      "outputs": [
        {
          "output_type": "stream",
          "name": "stdout",
          "text": [
            "After clear(): []\n"
          ]
        }
      ]
    },
    {
      "cell_type": "markdown",
      "source": [
        "**copy() - Returns a copy of the list**"
      ],
      "metadata": {
        "id": "ObsNlRcVLOsK"
      }
    },
    {
      "cell_type": "code",
      "source": [
        "my_list = [1, 2, 3, 4, 5]\n",
        "new_list = my_list.copy()\n",
        "print(new_list)\n"
      ],
      "metadata": {
        "colab": {
          "base_uri": "https://localhost:8080/"
        },
        "id": "Zxh-WMxJLTqr",
        "outputId": "589609f2-ed35-40bd-a2d3-50cc780fb650"
      },
      "execution_count": null,
      "outputs": [
        {
          "output_type": "stream",
          "name": "stdout",
          "text": [
            "Copy of the list: [1, 2, 3, 4, 5]\n"
          ]
        }
      ]
    },
    {
      "cell_type": "markdown",
      "source": [
        "**count() - Returns the number of elements with the specified value**"
      ],
      "metadata": {
        "id": "r4rRAOY_LZFk"
      }
    },
    {
      "cell_type": "code",
      "source": [
        "my_list = [1, 2, 2, 3, 4, 5, 2]\n",
        "print(\"Count of '2' in the list:\", my_list.count(2))"
      ],
      "metadata": {
        "colab": {
          "base_uri": "https://localhost:8080/"
        },
        "id": "JpfzboogLYeN",
        "outputId": "8a0a907a-75f2-462a-f527-9abf6efd11f0"
      },
      "execution_count": null,
      "outputs": [
        {
          "output_type": "stream",
          "name": "stdout",
          "text": [
            "Count of '2' in the list: 3\n"
          ]
        }
      ]
    },
    {
      "cell_type": "markdown",
      "source": [
        "**extend() - Add the elements of a list (or any iterable), to the end of the current list**"
      ],
      "metadata": {
        "id": "oZiVOgwZLhh9"
      }
    },
    {
      "cell_type": "code",
      "source": [
        "my_list = [1, 2, 2, 3, 4, 5, 2]\n",
        "another_list = [6, 7, 8]\n",
        "my_list.extend(another_list)\n",
        "print(\"After extend():\", my_list)\n"
      ],
      "metadata": {
        "colab": {
          "base_uri": "https://localhost:8080/"
        },
        "id": "eGeGmV99Lmw_",
        "outputId": "92f463c2-7085-4ede-9940-3e0e40cfaa3f"
      },
      "execution_count": null,
      "outputs": [
        {
          "output_type": "stream",
          "name": "stdout",
          "text": [
            "After extend(): [1, 2, 2, 3, 4, 5, 2, 6, 7, 8]\n"
          ]
        }
      ]
    },
    {
      "cell_type": "markdown",
      "source": [
        "**index() - Returns the index of the first element with the specified value**"
      ],
      "metadata": {
        "id": "RFVIQ5owLpqW"
      }
    },
    {
      "cell_type": "code",
      "source": [
        "my_list = [1, 2, 2, 3, 4, 5, 2]\n",
        "print(\"Index of '3' in the list:\", my_list.index(3))"
      ],
      "metadata": {
        "colab": {
          "base_uri": "https://localhost:8080/"
        },
        "id": "WdqYnitrLw_T",
        "outputId": "10f38270-bce8-490f-83ff-5fca4bed96cd"
      },
      "execution_count": null,
      "outputs": [
        {
          "output_type": "stream",
          "name": "stdout",
          "text": [
            "Index of '3' in the list: 3\n"
          ]
        }
      ]
    },
    {
      "cell_type": "markdown",
      "source": [
        "**insert() - Adds an element at the specified position**\n"
      ],
      "metadata": {
        "id": "Gk1Bh5_BLpk7"
      }
    },
    {
      "cell_type": "code",
      "source": [
        "my_list = [1, 2, 2, 3, 4, 5, 2]\n",
        "my_list.insert(2, 2.5)\n",
        "print(\"After insert():\", my_list)"
      ],
      "metadata": {
        "colab": {
          "base_uri": "https://localhost:8080/"
        },
        "id": "OkWD3CvFL9QR",
        "outputId": "fca85a2a-6cb0-47f7-d44e-6710c66e6276"
      },
      "execution_count": null,
      "outputs": [
        {
          "output_type": "stream",
          "name": "stdout",
          "text": [
            "After insert(): [1, 2, 2.5, 2, 3, 4, 5, 2]\n"
          ]
        }
      ]
    },
    {
      "cell_type": "markdown",
      "source": [
        " **pop() - Removes the element at the specified position (or last element if no index specified)**"
      ],
      "metadata": {
        "id": "YvlHZFEJMBZB"
      }
    },
    {
      "cell_type": "code",
      "source": [
        "my_list = [1, 2, 2, 3, 4, 5, 2]\n",
        "popped_element = my_list.pop(2)\n",
        "print(\"Popped element:\", popped_element)\n",
        "print(\"After pop():\", my_list)"
      ],
      "metadata": {
        "colab": {
          "base_uri": "https://localhost:8080/"
        },
        "id": "13E4NUsdMHzd",
        "outputId": "d8d188c4-a67e-4d57-ad27-05dec29aefa9"
      },
      "execution_count": null,
      "outputs": [
        {
          "output_type": "stream",
          "name": "stdout",
          "text": [
            "Popped element: 2\n",
            "After pop(): [1, 2, 3, 4, 5, 2]\n"
          ]
        }
      ]
    },
    {
      "cell_type": "markdown",
      "source": [
        "**remove() - Removes the item with the specified value**"
      ],
      "metadata": {
        "id": "4aIYvIIpMOLZ"
      }
    },
    {
      "cell_type": "code",
      "source": [
        "my_list = [1, 2, 2, 3, 4, 5, 2]\n",
        "my_list.remove(2)\n",
        "print(\"After remove():\", my_list)"
      ],
      "metadata": {
        "colab": {
          "base_uri": "https://localhost:8080/"
        },
        "id": "8AIJEtEzMSUC",
        "outputId": "0d30f5de-a55e-4de5-ddd3-24544b817f04"
      },
      "execution_count": null,
      "outputs": [
        {
          "output_type": "stream",
          "name": "stdout",
          "text": [
            "After remove(): [1, 2, 3, 4, 5, 2]\n"
          ]
        }
      ]
    },
    {
      "cell_type": "markdown",
      "source": [
        "**reverse() - Reverses the order of the list**"
      ],
      "metadata": {
        "id": "fh_qHl1EMVNa"
      }
    },
    {
      "cell_type": "code",
      "source": [
        "my_list = [1, 2, 2, 3, 4, 5, 2]\n",
        "my_list.reverse()\n",
        "print(\"After reverse():\", my_list)\n"
      ],
      "metadata": {
        "colab": {
          "base_uri": "https://localhost:8080/"
        },
        "id": "EzwXtSXtMavF",
        "outputId": "877adbf1-0758-4fbb-f340-bd0964cebb7d"
      },
      "execution_count": null,
      "outputs": [
        {
          "output_type": "stream",
          "name": "stdout",
          "text": [
            "After reverse(): [2, 5, 4, 3, 2, 2, 1]\n"
          ]
        }
      ]
    },
    {
      "cell_type": "markdown",
      "source": [
        "The del keyword can also delete the list completely."
      ],
      "metadata": {
        "id": "8fS9vVrcP703"
      }
    },
    {
      "cell_type": "code",
      "source": [
        "thislist = [\"apple\", \"banana\", \"cherry\"]\n",
        "del thislist"
      ],
      "metadata": {
        "id": "KrNol859P9yU"
      },
      "execution_count": null,
      "outputs": []
    },
    {
      "cell_type": "markdown",
      "source": [
        "**sort() - Sorts the list**"
      ],
      "metadata": {
        "id": "1umonLzVMdnj"
      }
    },
    {
      "cell_type": "code",
      "source": [
        "my_list = [1, 2, 2, 3, 4, 5, 2]\n",
        "my_list.sort()\n",
        "print(\"After sort():\", my_list)"
      ],
      "metadata": {
        "colab": {
          "base_uri": "https://localhost:8080/"
        },
        "id": "IISS0qzGMkFg",
        "outputId": "68bd2abd-2ae1-4921-9859-4384b9fe31e1"
      },
      "execution_count": null,
      "outputs": [
        {
          "output_type": "stream",
          "name": "stdout",
          "text": [
            "After sort(): [1, 2, 2, 2, 3, 4, 5]\n"
          ]
        }
      ]
    },
    {
      "cell_type": "markdown",
      "source": [
        "**Sort Descending**\n",
        "\n",
        "To sort descending, use the keyword argument reverse = True:"
      ],
      "metadata": {
        "id": "i-u9lWBkPlzq"
      }
    },
    {
      "cell_type": "code",
      "source": [
        "#Sort Descending\n",
        "thislist = [\"orange\", \"mango\", \"kiwi\", \"pineapple\", \"banana\"]\n",
        "thislist.sort(reverse = True)\n",
        "print(thislist)"
      ],
      "metadata": {
        "id": "mFQRO9afPBFs"
      },
      "execution_count": null,
      "outputs": []
    },
    {
      "cell_type": "code",
      "source": [
        "thislist = [100, 50, 65, 82, 23]\n",
        "thislist.sort(reverse = True)\n",
        "print(thislist)"
      ],
      "metadata": {
        "id": "XrLLiDqZPKcb"
      },
      "execution_count": null,
      "outputs": []
    },
    {
      "cell_type": "markdown",
      "source": [
        "**List Length**  \n",
        "To determine how many items a list has, use the len() function:"
      ],
      "metadata": {
        "id": "bpfsb1-OQaHQ"
      }
    },
    {
      "cell_type": "code",
      "source": [
        "thislist = [\"apple\", \"banana\", \"cherry\"]\n",
        "print(len(thislist))"
      ],
      "metadata": {
        "id": "ah1h1EFZQm_o"
      },
      "execution_count": null,
      "outputs": []
    },
    {
      "cell_type": "markdown",
      "source": [
        "**List Length**\n",
        "   \n",
        "To determine how many items a list has, use the len() function:"
      ],
      "metadata": {
        "id": "L-js8VCcQqNd"
      }
    },
    {
      "cell_type": "code",
      "source": [
        "thislist = [\"apple\", \"banana\", \"cherry\"]\n",
        "print(len(thislist))\n"
      ],
      "metadata": {
        "id": "EzmonqzfRCnj"
      },
      "execution_count": null,
      "outputs": []
    },
    {
      "cell_type": "markdown",
      "source": [
        "**type()**\n",
        "\n",
        "From Python's perspective, lists are defined as objects with the data type 'list':\n",
        "\n"
      ],
      "metadata": {
        "id": "3SBUK1z6SFwZ"
      }
    },
    {
      "cell_type": "code",
      "source": [
        "mylist = [\"apple\", \"banana\", \"cherry\"]\n",
        "print(type(mylist))"
      ],
      "metadata": {
        "id": "BgnlTqadSL9d"
      },
      "execution_count": null,
      "outputs": []
    },
    {
      "cell_type": "markdown",
      "source": [
        "**CODE - 6 Check whether the given number is PRIME or not**\n"
      ],
      "metadata": {
        "id": "BNyYkNKaAgR8"
      }
    },
    {
      "cell_type": "code",
      "source": [
        "num=10\n",
        "for i in range(2,num):\n",
        "  if num%i==0:\n",
        "    print(\"Not prime\")\n",
        "    break\n",
        "else:\n",
        "  print(\"Prime\")"
      ],
      "metadata": {
        "id": "r57qNTUKAfxY",
        "colab": {
          "base_uri": "https://localhost:8080/"
        },
        "outputId": "e7943e32-a15f-46a9-c89a-282623fd9f75"
      },
      "execution_count": null,
      "outputs": [
        {
          "output_type": "stream",
          "name": "stdout",
          "text": [
            "Not prime\n"
          ]
        }
      ]
    },
    {
      "cell_type": "markdown",
      "source": [
        "# DAY 8\n",
        "**SETS,TUPLES,DICTONARIES**\n"
      ],
      "metadata": {
        "id": "pXSksq62javJ"
      }
    },
    {
      "cell_type": "markdown",
      "source": [
        "# Python Set\n",
        "Sets are used to store multiple items in a single variable.Sets are written with curly brackets."
      ],
      "metadata": {
        "id": "NVHnJIP_j8Ju"
      }
    },
    {
      "cell_type": "markdown",
      "source": [
        "**set Items**\n",
        "Set items are unordered, unchangeable, and do not allow duplicate values."
      ],
      "metadata": {
        "id": "OBTQiEeAke0a"
      }
    },
    {
      "cell_type": "markdown",
      "source": [
        "**Unordered**\n",
        "Unordered means that the items in a set do not have a defined order.\n",
        "\n",
        "Set items can appear in a different order every time you use them, and cannot be referred to by index or key."
      ],
      "metadata": {
        "id": "meGKDJMxkTT6"
      }
    },
    {
      "cell_type": "markdown",
      "source": [
        "*** Note: Set items are unchangeable, but you can remove items and add new items.**"
      ],
      "metadata": {
        "id": "kPIRcdZRkZVB"
      }
    },
    {
      "cell_type": "code",
      "source": [
        "thisset = {\"apple\", \"banana\", \"cherry\"}\n",
        "print(thisset)"
      ],
      "metadata": {
        "id": "mMJIdob4jknI"
      },
      "execution_count": null,
      "outputs": []
    },
    {
      "cell_type": "markdown",
      "source": [
        "**Duplicates Not Allowed**"
      ],
      "metadata": {
        "id": "3m4_IKEvkxrc"
      }
    },
    {
      "cell_type": "code",
      "source": [
        "thisset = {\"apple\", \"banana\", \"cherry\", \"apple\"}\n",
        "\n",
        "print(thisset)"
      ],
      "metadata": {
        "colab": {
          "base_uri": "https://localhost:8080/"
        },
        "id": "PgGwlbi1kw7t",
        "outputId": "1a856f0d-a5a6-4b9a-eec0-9604a9e684a6"
      },
      "execution_count": null,
      "outputs": [
        {
          "output_type": "stream",
          "name": "stdout",
          "text": [
            "{'banana', 'apple', 'cherry'}\n"
          ]
        }
      ]
    },
    {
      "cell_type": "code",
      "source": [
        "thisset = {\"apple\", \"banana\", \"cherry\", True, 1, 2}\n",
        "\n",
        "print(thisset)"
      ],
      "metadata": {
        "colab": {
          "base_uri": "https://localhost:8080/"
        },
        "id": "HRmSx9-3jkkG",
        "outputId": "7714cc3b-6444-4fab-e2b1-cf958af0ab1e"
      },
      "execution_count": null,
      "outputs": [
        {
          "output_type": "stream",
          "name": "stdout",
          "text": [
            "{True, 2, 'banana', 'apple', 'cherry'}\n"
          ]
        }
      ]
    },
    {
      "cell_type": "markdown",
      "source": [
        "**Get the Length of a Set**"
      ],
      "metadata": {
        "id": "aen1T5ILk_Um"
      }
    },
    {
      "cell_type": "code",
      "source": [
        "thisset = {\"apple\", \"banana\", \"cherry\"}\n",
        "\n",
        "print(len(thisset))"
      ],
      "metadata": {
        "id": "8h4cXPk6jkgL"
      },
      "execution_count": null,
      "outputs": []
    },
    {
      "cell_type": "markdown",
      "source": [
        "**Set Items - Data Types**"
      ],
      "metadata": {
        "id": "1dpmNOAhlOBS"
      }
    },
    {
      "cell_type": "code",
      "source": [
        "set1 = {\"apple\", \"banana\", \"cherry\"}\n",
        "set2 = {1, 5, 7, 9, 3}\n",
        "set3 = {True, False, False}"
      ],
      "metadata": {
        "id": "E6idwcqSjkct"
      },
      "execution_count": null,
      "outputs": []
    },
    {
      "cell_type": "markdown",
      "source": [
        "**the set() Constructor**\n",
        "It is also possible to use the set() constructor to make a set."
      ],
      "metadata": {
        "id": "HuPsH30jlUcj"
      }
    },
    {
      "cell_type": "code",
      "source": [
        "thisset = set((\"apple\", \"banana\", \"cherry\"))\n",
        "print(thisset)"
      ],
      "metadata": {
        "id": "6Okaiq44jkZg"
      },
      "execution_count": null,
      "outputs": []
    },
    {
      "cell_type": "markdown",
      "source": [
        "**Add Items**"
      ],
      "metadata": {
        "id": "OE7qyJPDluOp"
      }
    },
    {
      "cell_type": "code",
      "source": [
        "thisset = {\"apple\", \"banana\", \"cherry\"}\n",
        "\n",
        "thisset.add(\"orange\")\n",
        "\n",
        "print(thisset)"
      ],
      "metadata": {
        "id": "puT3W4kqjkWL"
      },
      "execution_count": null,
      "outputs": []
    },
    {
      "cell_type": "markdown",
      "source": [
        "**Add Sets**"
      ],
      "metadata": {
        "id": "M0sS1xLWl2jU"
      }
    },
    {
      "cell_type": "code",
      "source": [
        "thisset = {\"apple\", \"banana\", \"cherry\"}\n",
        "tropical = {\"pineapple\", \"mango\", \"papaya\"}\n",
        "\n",
        "thisset.update(tropical)\n",
        "\n",
        "print(thisset)"
      ],
      "metadata": {
        "id": "JMWO5XP0jkS6"
      },
      "execution_count": null,
      "outputs": []
    },
    {
      "cell_type": "markdown",
      "source": [
        "The object in the update() method does not have to be a set, it can be any iterable object (tuples, lists, dictionaries etc.)"
      ],
      "metadata": {
        "id": "k8M9mvD1mIOb"
      }
    },
    {
      "cell_type": "code",
      "source": [
        "thisset = {\"apple\", \"banana\", \"cherry\"}\n",
        "mylist = [\"kiwi\", \"orange\"]\n",
        "\n",
        "thisset.update(mylist)\n",
        "\n",
        "print(thisset)"
      ],
      "metadata": {
        "id": "J7AIc4xjjkQM"
      },
      "execution_count": null,
      "outputs": []
    },
    {
      "cell_type": "markdown",
      "source": [
        "**Remove Item**"
      ],
      "metadata": {
        "id": "cgTRAjE4mPqX"
      }
    },
    {
      "cell_type": "code",
      "source": [
        "thisset = {\"apple\", \"banana\", \"cherry\"}\n",
        "\n",
        "thisset.remove(\"banana\")\n",
        "\n",
        "print(thisset)"
      ],
      "metadata": {
        "id": "UhZa0h-QjkNI"
      },
      "execution_count": null,
      "outputs": []
    },
    {
      "cell_type": "code",
      "source": [
        "thisset = {\"apple\", \"banana\", \"cherry\"}\n",
        "\n",
        "thisset.discard(\"banana\")\n",
        "\n",
        "print(thisset)"
      ],
      "metadata": {
        "id": "l1j-gun9jkJs"
      },
      "execution_count": null,
      "outputs": []
    },
    {
      "cell_type": "markdown",
      "source": [
        "**clear()**"
      ],
      "metadata": {
        "id": "8GuJhfrNmmCZ"
      }
    },
    {
      "cell_type": "code",
      "source": [
        "thisset = {\"apple\", \"banana\", \"cherry\"}\n",
        "\n",
        "thisset.clear()\n",
        "\n",
        "print(thisset)"
      ],
      "metadata": {
        "id": "K5LGpjeLjkG3"
      },
      "execution_count": null,
      "outputs": []
    },
    {
      "cell_type": "markdown",
      "source": [
        "**Loop Items**"
      ],
      "metadata": {
        "id": "2i_UClk9mvJF"
      }
    },
    {
      "cell_type": "code",
      "source": [
        "thisset = {\"apple\", \"banana\", \"cherry\"}\n",
        "\n",
        "for x in thisset:\n",
        "  print(x)"
      ],
      "metadata": {
        "id": "WYZg-UcBjkD6"
      },
      "execution_count": null,
      "outputs": []
    },
    {
      "cell_type": "markdown",
      "source": [
        "**Union**"
      ],
      "metadata": {
        "id": "zRkOPGv0m7lp"
      }
    },
    {
      "cell_type": "code",
      "source": [
        "set1 = {\"a\", \"b\", \"c\"}\n",
        "set2 = {1, 2, 3}\n",
        "\n",
        "set3 = set1.union(set2)\n",
        "print(set3)"
      ],
      "metadata": {
        "id": "Zw7UuR42jj_c"
      },
      "execution_count": null,
      "outputs": []
    },
    {
      "cell_type": "code",
      "source": [
        "set1 = {\"a\", \"b\", \"c\"}\n",
        "set2 = {1, 2, 3}\n",
        "set3 = {\"John\", \"Elena\"}\n",
        "set4 = {\"apple\", \"bananas\", \"cherry\"}\n",
        "\n",
        "myset = set1.union(set2, set3, set4)\n",
        "print(myset)"
      ],
      "metadata": {
        "id": "u9C_6R8yjj8b"
      },
      "execution_count": null,
      "outputs": []
    },
    {
      "cell_type": "markdown",
      "source": [
        "**Intersection**"
      ],
      "metadata": {
        "id": "EGlIDHG-nM_d"
      }
    },
    {
      "cell_type": "code",
      "source": [
        "set1 = {\"a\", \"b\", \"c\"}\n",
        "set2 = {1, 2, 3}\n",
        "set3 = {\"John\", \"Elena\"}\n",
        "set4 = {\"apple\", \"bananas\", \"cherry\"}\n",
        "\n",
        "myset = set1.union(set2, set3, set4)\n",
        "print(myset)"
      ],
      "metadata": {
        "id": "SrQNMwb5jj48"
      },
      "execution_count": null,
      "outputs": []
    },
    {
      "cell_type": "markdown",
      "source": [
        "#  Python Tuples"
      ],
      "metadata": {
        "id": "I3ABC-7rntmY"
      }
    },
    {
      "cell_type": "markdown",
      "source": [
        "**Tuple**\n",
        "Tuples are used to store multiple items in a single variable."
      ],
      "metadata": {
        "id": "Trdva2ZfoHI8"
      }
    },
    {
      "cell_type": "code",
      "source": [
        "thistuple = (\"apple\", \"banana\", \"cherry\")\n",
        "print(thistuple)"
      ],
      "metadata": {
        "id": "XpbX838Ljjfr"
      },
      "execution_count": null,
      "outputs": []
    },
    {
      "cell_type": "markdown",
      "source": [
        "**Tuple Items**\n",
        "Tuple items are ordered, unchangeable, and allow duplicate values.\n",
        "\n",
        "Tuple items are indexed, the first item has index [0], the second item has index [1] etc."
      ],
      "metadata": {
        "id": "lHBgurM9oMim"
      }
    },
    {
      "cell_type": "markdown",
      "source": [
        "**Ordered**\n",
        "When we say that tuples are ordered, it means that the items have a defined order, and that order will not change."
      ],
      "metadata": {
        "id": "autCtVfjoSN-"
      }
    },
    {
      "cell_type": "markdown",
      "source": [
        "**Unchangeable**\n",
        "Tuples are unchangeable, meaning that we cannot change, add or remove items after the tuple has been created."
      ],
      "metadata": {
        "id": "uWWUbWWaoW62"
      }
    },
    {
      "cell_type": "markdown",
      "source": [
        "**Allow Duplicates**\n",
        "Since tuples are indexed, they can have items with the same value:"
      ],
      "metadata": {
        "id": "kHy5oLYkoamu"
      }
    },
    {
      "cell_type": "code",
      "source": [
        "thistuple = (\"apple\", \"banana\", \"cherry\", \"apple\", \"cherry\")\n",
        "print(thistuple)"
      ],
      "metadata": {
        "id": "ce78N219of2o"
      },
      "execution_count": null,
      "outputs": []
    },
    {
      "cell_type": "markdown",
      "source": [
        "**Tuple Length**\n",
        "To determine how many items a tuple has, use the len() function:"
      ],
      "metadata": {
        "id": "oLjmacjVolWd"
      }
    },
    {
      "cell_type": "code",
      "source": [
        "thistuple = (\"apple\", \"banana\", \"cherry\")\n",
        "print(len(thistuple))"
      ],
      "metadata": {
        "id": "zZGA89NooiCt"
      },
      "execution_count": null,
      "outputs": []
    },
    {
      "cell_type": "markdown",
      "source": [
        "**Create Tuple With One Item**\n",
        "To create a tuple with only one item, you have to add a comma after the item, otherwise Python will not recognize it as a tuple."
      ],
      "metadata": {
        "id": "BjhLaCiEovEw"
      }
    },
    {
      "cell_type": "code",
      "source": [
        "thistuple = (\"apple\",)\n",
        "print(type(thistuple))\n",
        "\n",
        "#NOT a tuple\n",
        "thistuple = (\"apple\")\n",
        "print(type(thistuple))"
      ],
      "metadata": {
        "id": "VEK9nHiWoh_N"
      },
      "execution_count": null,
      "outputs": []
    },
    {
      "cell_type": "markdown",
      "source": [
        "**Tuple Items - Data Types**"
      ],
      "metadata": {
        "id": "pjQzpuS-o7AA"
      }
    },
    {
      "cell_type": "code",
      "source": [
        "#A tuple with strings, integers and boolean values:\n",
        "\n",
        "tuple1 = (\"abc\", 34, True, 40, \"male\")"
      ],
      "metadata": {
        "id": "D_QeLPAPoh73"
      },
      "execution_count": null,
      "outputs": []
    },
    {
      "cell_type": "markdown",
      "source": [
        "**The tuple() Constructor**"
      ],
      "metadata": {
        "id": "OeYxnN-WpCTS"
      }
    },
    {
      "cell_type": "code",
      "source": [
        "thistuple = tuple((\"apple\", \"banana\", \"cherry\"))\n",
        "print(thistuple)"
      ],
      "metadata": {
        "id": "vr5O9r-8oh3u"
      },
      "execution_count": null,
      "outputs": []
    },
    {
      "cell_type": "markdown",
      "source": [
        "**Access Tuple Items**"
      ],
      "metadata": {
        "id": "nImSFEJOpKXu"
      }
    },
    {
      "cell_type": "code",
      "source": [
        "thistuple = (\"apple\", \"banana\", \"cherry\")\n",
        "print(thistuple[1])"
      ],
      "metadata": {
        "id": "M6FmRDg0oh01"
      },
      "execution_count": null,
      "outputs": []
    },
    {
      "cell_type": "code",
      "source": [
        "thistuple = (\"apple\", \"banana\", \"cherry\", \"orange\", \"kiwi\", \"melon\", \"mango\")\n",
        "print(thistuple[2:5])"
      ],
      "metadata": {
        "id": "zZPobQUmohxS"
      },
      "execution_count": null,
      "outputs": []
    },
    {
      "cell_type": "markdown",
      "source": [
        "**Check if Item Exists**"
      ],
      "metadata": {
        "id": "D6VeDDL8pUcU"
      }
    },
    {
      "cell_type": "code",
      "source": [
        "thistuple = (\"apple\", \"banana\", \"cherry\")\n",
        "if \"apple\" in thistuple:\n",
        "  print(\"Yes, 'apple' is in the fruits tuple\")"
      ],
      "metadata": {
        "id": "qoqIwcacohto"
      },
      "execution_count": null,
      "outputs": []
    },
    {
      "cell_type": "markdown",
      "source": [
        "**Join Two Tuples**"
      ],
      "metadata": {
        "id": "m3LmmAoipjgM"
      }
    },
    {
      "cell_type": "code",
      "source": [
        "tuple1 = (\"a\", \"b\" , \"c\")\n",
        "tuple2 = (1, 2, 3)\n",
        "\n",
        "tuple3 = tuple1 + tuple2\n",
        "print(tuple3)"
      ],
      "metadata": {
        "id": "bbBy8VytpWXu"
      },
      "execution_count": null,
      "outputs": []
    },
    {
      "cell_type": "markdown",
      "source": [
        "# Python Dictionaries"
      ],
      "metadata": {
        "id": "HZbMO5IUp_AA"
      }
    },
    {
      "cell_type": "markdown",
      "source": [
        "**Dictionaries are used to store data values in key:value pairs.**"
      ],
      "metadata": {
        "id": "ubtDR0XcqlH3"
      }
    },
    {
      "cell_type": "code",
      "source": [
        "thisdict = {\n",
        "  \"brand\": \"Ford\",\n",
        "  \"model\": \"Mustang\",\n",
        "  \"year\": 1964\n",
        "}\n",
        "print(thisdict)"
      ],
      "metadata": {
        "id": "iCWkBmwYp-J-"
      },
      "execution_count": null,
      "outputs": []
    },
    {
      "cell_type": "code",
      "source": [
        "thisdict = {\n",
        "  \"brand\": \"Ford\",\n",
        "  \"model\": \"Mustang\",\n",
        "  \"year\": 1964\n",
        "}\n",
        "print(thisdict[\"brand\"])"
      ],
      "metadata": {
        "id": "d56FLVR2p-FO"
      },
      "execution_count": null,
      "outputs": []
    },
    {
      "cell_type": "markdown",
      "source": [
        "Duplicate values will overwrite existing values:\n"
      ],
      "metadata": {
        "id": "7wb7AOjnqx9H"
      }
    },
    {
      "cell_type": "code",
      "source": [
        "thisdict = {\n",
        "  \"brand\": \"Ford\",\n",
        "  \"model\": \"Mustang\",\n",
        "  \"year\": 1964,\n",
        "  \"year\": 2020\n",
        "}\n",
        "print(thisdict)"
      ],
      "metadata": {
        "colab": {
          "base_uri": "https://localhost:8080/"
        },
        "id": "xBJ98QDZp-AY",
        "outputId": "b082db18-cd9b-418c-9358-5a5d79e4e2b4"
      },
      "execution_count": null,
      "outputs": [
        {
          "output_type": "stream",
          "name": "stdout",
          "text": [
            "{'brand': 'Ford', 'model': 'Mustang', 'year': 2020}\n"
          ]
        }
      ]
    },
    {
      "cell_type": "markdown",
      "source": [
        "**Dictionary Length**"
      ],
      "metadata": {
        "id": "jHRb-jkrq6cJ"
      }
    },
    {
      "cell_type": "code",
      "source": [
        "thisdict = {\n",
        "  \"brand\": \"Ford\",\n",
        "  \"model\": \"Mustang\",\n",
        "  \"year\": 1964\n",
        "}\n",
        "print(len(thisdict))"
      ],
      "metadata": {
        "colab": {
          "base_uri": "https://localhost:8080/"
        },
        "id": "Y_i5t6OFp981",
        "outputId": "f53cce08-96f3-4c8a-d800-ba015ef9e304"
      },
      "execution_count": null,
      "outputs": [
        {
          "output_type": "stream",
          "name": "stdout",
          "text": [
            "3\n"
          ]
        }
      ]
    },
    {
      "cell_type": "markdown",
      "source": [
        "\n",
        "**The dict() Constructor**"
      ],
      "metadata": {
        "id": "s1JSaTG4rXz5"
      }
    },
    {
      "cell_type": "code",
      "source": [
        "thisdict = dict(name = \"John\", age = 36, country = \"Norway\")\n",
        "print(thisdict)"
      ],
      "metadata": {
        "id": "A07_p3vTp947"
      },
      "execution_count": null,
      "outputs": []
    },
    {
      "cell_type": "markdown",
      "source": [
        "**Accessing Items**"
      ],
      "metadata": {
        "id": "lYMHCJvlrgRg"
      }
    },
    {
      "cell_type": "code",
      "source": [
        "thisdict = {\n",
        "  \"brand\": \"Ford\",\n",
        "  \"model\": \"Mustang\",\n",
        "  \"year\": 1964\n",
        "}\n",
        "x = thisdict[\"model\"]\n",
        "print(x)"
      ],
      "metadata": {
        "colab": {
          "base_uri": "https://localhost:8080/"
        },
        "id": "AjJoRL6Wp91H",
        "outputId": "8ff56906-ef61-4be3-ae08-6699e45438ad"
      },
      "execution_count": null,
      "outputs": [
        {
          "output_type": "stream",
          "name": "stdout",
          "text": [
            "Mustang\n"
          ]
        }
      ]
    },
    {
      "cell_type": "code",
      "source": [
        "thisdict = {\n",
        "  \"brand\": \"Ford\",\n",
        "  \"model\": \"Mustang\",\n",
        "  \"year\": 1964\n",
        "}\n",
        "x = thisdict.get(\"model\")\n",
        "print(x)"
      ],
      "metadata": {
        "colab": {
          "base_uri": "https://localhost:8080/"
        },
        "id": "W8A531sMp9vb",
        "outputId": "c1c729c5-3d08-4c79-a897-17ddd476f49d"
      },
      "execution_count": null,
      "outputs": [
        {
          "output_type": "stream",
          "name": "stdout",
          "text": [
            "Mustang\n"
          ]
        }
      ]
    },
    {
      "cell_type": "markdown",
      "source": [
        "**Get Keys**\n",
        "The keys() method will return a list of all the keys in the dictionary."
      ],
      "metadata": {
        "id": "l_POCIYQr9ZN"
      }
    },
    {
      "cell_type": "code",
      "source": [
        "thisdict = {\n",
        "  \"brand\": \"Ford\",\n",
        "  \"model\": \"Mustang\",\n",
        "  \"year\": 1964\n",
        "}\n",
        "x = thisdict.keys()\n",
        "print(x)"
      ],
      "metadata": {
        "colab": {
          "base_uri": "https://localhost:8080/"
        },
        "id": "Rve77DzRr6_g",
        "outputId": "e9fbe03c-24fa-4f44-8e63-dccb30de43ae"
      },
      "execution_count": null,
      "outputs": [
        {
          "output_type": "stream",
          "name": "stdout",
          "text": [
            "dict_keys(['brand', 'model', 'year'])\n"
          ]
        }
      ]
    },
    {
      "cell_type": "markdown",
      "source": [
        "**Get Values**\n",
        "The values() method will return a list of all the values in the dictionary."
      ],
      "metadata": {
        "id": "L_815jAzsJws"
      }
    },
    {
      "cell_type": "code",
      "source": [
        "thisdict = {\n",
        "  \"brand\": \"Ford\",\n",
        "  \"model\": \"Mustang\",\n",
        "  \"year\": 1964\n",
        "}\n",
        "x = thisdict.values()\n",
        "print(x)"
      ],
      "metadata": {
        "colab": {
          "base_uri": "https://localhost:8080/"
        },
        "id": "9rrpY6nisMhx",
        "outputId": "4ed913be-7f93-4a65-bf4a-4e3d5b47a3ff"
      },
      "execution_count": null,
      "outputs": [
        {
          "output_type": "stream",
          "name": "stdout",
          "text": [
            "dict_values(['Ford', 'Mustang', 1964])\n"
          ]
        }
      ]
    },
    {
      "cell_type": "markdown",
      "source": [
        "**Get Items**"
      ],
      "metadata": {
        "id": "E56xSEkmsjdG"
      }
    },
    {
      "cell_type": "code",
      "source": [
        "thisdict = {\n",
        "  \"brand\": \"Ford\",\n",
        "  \"model\": \"Mustang\",\n",
        "  \"year\": 1964\n",
        "}\n",
        "x = thisdict.items()\n",
        "print(x)"
      ],
      "metadata": {
        "id": "7PlM_fRysbcM"
      },
      "execution_count": null,
      "outputs": []
    },
    {
      "cell_type": "markdown",
      "source": [
        "**Change Values**"
      ],
      "metadata": {
        "id": "SuIOlhcdsqkg"
      }
    },
    {
      "cell_type": "code",
      "source": [
        "thisdict = {\n",
        "  \"brand\": \"Ford\",\n",
        "  \"model\": \"Mustang\",\n",
        "  \"year\": 1964\n",
        "}\n",
        "thisdict[\"year\"] = 2018\n",
        "print(thisdict)"
      ],
      "metadata": {
        "id": "DysE-yVssvHF"
      },
      "execution_count": null,
      "outputs": []
    },
    {
      "cell_type": "markdown",
      "source": [
        "**Adding Items**"
      ],
      "metadata": {
        "id": "OAR8aqRis2QJ"
      }
    },
    {
      "cell_type": "code",
      "source": [
        "thisdict = {\n",
        "  \"brand\": \"Ford\",\n",
        "  \"model\": \"Mustang\",\n",
        "  \"year\": 1964\n",
        "}\n",
        "thisdict[\"color\"] = \"red\"\n",
        "print(thisdict)"
      ],
      "metadata": {
        "colab": {
          "base_uri": "https://localhost:8080/"
        },
        "id": "R-KFDud2s4qp",
        "outputId": "88e1dc12-177c-4f2f-92c0-045e2892bf8e"
      },
      "execution_count": null,
      "outputs": [
        {
          "output_type": "stream",
          "name": "stdout",
          "text": [
            "{'brand': 'Ford', 'model': 'Mustang', 'year': 1964, 'color': 'red'}\n"
          ]
        }
      ]
    },
    {
      "cell_type": "markdown",
      "source": [
        "**Removing Items**\n",
        "There are several methods to remove items from a dictionary:"
      ],
      "metadata": {
        "id": "ZNcozTHMs-ly"
      }
    },
    {
      "cell_type": "code",
      "source": [
        "thisdict = {\n",
        "  \"brand\": \"Ford\",\n",
        "  \"model\": \"Mustang\",\n",
        "  \"year\": 1964\n",
        "}\n",
        "thisdict.pop(\"model\")\n",
        "print(thisdict)"
      ],
      "metadata": {
        "id": "2mcZBZSmtCwa"
      },
      "execution_count": null,
      "outputs": []
    },
    {
      "cell_type": "markdown",
      "source": [
        "The popitem() method removes the last inserted item (in versions before 3.7, a random item is removed instead):"
      ],
      "metadata": {
        "id": "OCynctOGtHXR"
      }
    },
    {
      "cell_type": "code",
      "source": [
        "thisdict = {\n",
        "  \"brand\": \"Ford\",\n",
        "  \"model\": \"Mustang\",\n",
        "  \"year\": 1964\n",
        "}\n",
        "thisdict.popitem()\n",
        "print(thisdict)"
      ],
      "metadata": {
        "id": "F2zROa4ytIfk"
      },
      "execution_count": null,
      "outputs": []
    },
    {
      "cell_type": "markdown",
      "source": [
        "**Copy a Dictionary**"
      ],
      "metadata": {
        "id": "teTiURXvtTr0"
      }
    },
    {
      "cell_type": "code",
      "source": [
        "thisdict = {\n",
        "  \"brand\": \"Ford\",\n",
        "  \"model\": \"Mustang\",\n",
        "  \"year\": 1964\n",
        "}\n",
        "mydict = thisdict.copy()\n",
        "print(mydict)"
      ],
      "metadata": {
        "id": "IH9X74GwtZAs"
      },
      "execution_count": null,
      "outputs": []
    },
    {
      "cell_type": "markdown",
      "source": [
        "**Nested Dictionaries**"
      ],
      "metadata": {
        "id": "WfotossRtfMT"
      }
    },
    {
      "cell_type": "code",
      "source": [
        "myfamily = {\n",
        "  \"child1\" : {\n",
        "    \"name\" : \"Emil\",\n",
        "    \"year\" : 2004\n",
        "  },\n",
        "  \"child2\" : {\n",
        "    \"name\" : \"Tobias\",\n",
        "    \"year\" : 2007\n",
        "  },\n",
        "  \"child3\" : {\n",
        "    \"name\" : \"Linus\",\n",
        "    \"year\" : 2011\n",
        "  }\n",
        "}\n",
        "print(myfamily[\"child2\"][\"name\"])"
      ],
      "metadata": {
        "colab": {
          "base_uri": "https://localhost:8080/"
        },
        "id": "gu0qlvBstm85",
        "outputId": "bca3c7ab-1c3f-499a-fe62-e9da55e993ed"
      },
      "execution_count": null,
      "outputs": [
        {
          "output_type": "stream",
          "name": "stdout",
          "text": [
            "Tobias\n"
          ]
        }
      ]
    },
    {
      "cell_type": "markdown",
      "source": [
        "**Some METHODS**"
      ],
      "metadata": {
        "id": "dw23jKlcuENT"
      }
    },
    {
      "cell_type": "markdown",
      "source": [
        "\n",
        "1. clear()\tRemoves all the elements from the dictionary\n",
        "2. copy()\tReturns a copy of the dictionary\n",
        "3. fromkeys()\tReturns a dictionary with the specified keys and value\n",
        "4. get()\tReturns the value of the specified key\n",
        "5. items()\tReturns a list containing a tuple for each key value pair\n",
        "6. keys()\tReturns a list containing the dictionary's keys\n",
        "7. pop()\tRemoves the element with the specified key\n",
        "8. popitem()\tRemoves the last inserted key-value pair\n",
        "9. setdefault()\tReturns the value of the specified key. If the key does not exist: insert the key, with the specified value\n",
        "10. update()\tUpdates the dictionary with the specified key-value pairs\n",
        "11. values()\tReturns a list of all the values in the dictionary"
      ],
      "metadata": {
        "id": "oEgi7CcstwNy"
      }
    },
    {
      "cell_type": "markdown",
      "source": [
        "# DAY 9\n",
        "# FUNCTIONS"
      ],
      "metadata": {
        "id": "UH1iQgNClswa"
      }
    },
    {
      "cell_type": "markdown",
      "source": [
        "**A function is a block of code which only runs when it is called.** **You can pass data, known as parameters, into a function.** **A function can return data as a result**"
      ],
      "metadata": {
        "id": "Tf1-rePEl8Dr"
      }
    },
    {
      "cell_type": "markdown",
      "source": [
        "**Creating a Function**\n",
        "In Python a function is defined using the def keyword:"
      ],
      "metadata": {
        "id": "jw8OWUHYmUg4"
      }
    },
    {
      "cell_type": "code",
      "source": [
        "def my_function():\n",
        "  print(\"Hello from a function\")"
      ],
      "metadata": {
        "id": "AaTqCq_El43M"
      },
      "execution_count": null,
      "outputs": []
    },
    {
      "cell_type": "markdown",
      "source": [
        "**Calling a Function**\n",
        "To call a function, use the function name followed by parenthesis:"
      ],
      "metadata": {
        "id": "35Dw2uWZmgUH"
      }
    },
    {
      "cell_type": "code",
      "source": [
        "def my_function():\n",
        "  print(\"Hello from a function\")\n",
        "\n",
        "my_function()"
      ],
      "metadata": {
        "id": "WfZtOCqFl4yS",
        "colab": {
          "base_uri": "https://localhost:8080/"
        },
        "outputId": "c9929b4c-be98-4854-b16e-5667bbe836fa"
      },
      "execution_count": null,
      "outputs": [
        {
          "output_type": "stream",
          "name": "stdout",
          "text": [
            "Hello from a function\n"
          ]
        }
      ]
    },
    {
      "cell_type": "markdown",
      "source": [
        "**Parameters:**\n",
        "Parameters (or arguments) are values that are passed into a function when it is called. They allow you to provide input to the function for processing. Functions can accept zero or more parameters."
      ],
      "metadata": {
        "id": "kZcH3BUgnREo"
      }
    },
    {
      "cell_type": "code",
      "source": [
        "def greet(name):\n",
        "    print(name)\n"
      ],
      "metadata": {
        "id": "DNlElMUbl4ss"
      },
      "execution_count": null,
      "outputs": []
    },
    {
      "cell_type": "markdown",
      "source": [
        "**Function Body:**\n",
        "The function body contains the code that executes when the function is called. It can consist of any valid Python code, including variable declarations, conditional statements, loops, and more."
      ],
      "metadata": {
        "id": "lmEt83BIng7a"
      }
    },
    {
      "cell_type": "code",
      "source": [
        "def add(a, b):\n",
        "    return a + b\n"
      ],
      "metadata": {
        "id": "xNy3dBlcl4k2"
      },
      "execution_count": null,
      "outputs": []
    },
    {
      "cell_type": "markdown",
      "source": [
        "**Calling a Function:**\n",
        "To execute a function, you need to call it by using its name followed by parentheses ( ). If the function accepts parameters, you pass them within the parentheses."
      ],
      "metadata": {
        "id": "ZV0a-gGPnsfR"
      }
    },
    {
      "cell_type": "code",
      "source": [
        "def add(a, b):\n",
        "    return a + b\n",
        "\n",
        "result=add(3, 5)\n",
        "print(result)\n"
      ],
      "metadata": {
        "colab": {
          "base_uri": "https://localhost:8080/"
        },
        "id": "CwzyVp6Zl4gu",
        "outputId": "587636cc-a080-40bc-e8d3-431b257f120c"
      },
      "execution_count": null,
      "outputs": [
        {
          "output_type": "stream",
          "name": "stdout",
          "text": [
            "8\n"
          ]
        }
      ]
    },
    {
      "cell_type": "markdown",
      "source": [
        "**Return Statement:***\n",
        "The return statement is used to exit a function and return a value (or values) to the caller. Functions can return any data type, including integers, strings, lists, tuples, dictionaries, or even other functions.\n"
      ],
      "metadata": {
        "id": "b0K9K2JNoYm8"
      }
    },
    {
      "cell_type": "code",
      "source": [
        "def subtract(a, b):\n",
        "    return a - b\n",
        "\n",
        "print(subtract(8, 3))  # Output: 5\n"
      ],
      "metadata": {
        "colab": {
          "base_uri": "https://localhost:8080/"
        },
        "id": "j7KhJ32SoYSm",
        "outputId": "22ee4ef2-04cc-4e1f-dab2-b79ee2d0d6fa"
      },
      "execution_count": null,
      "outputs": [
        {
          "output_type": "stream",
          "name": "stdout",
          "text": [
            "5\n"
          ]
        }
      ]
    },
    {
      "cell_type": "code",
      "source": [
        "def subtract(a, b):\n",
        "    return a - b\n",
        "a=5\n",
        "b=3\n",
        "print(subtract(a,b))"
      ],
      "metadata": {
        "colab": {
          "base_uri": "https://localhost:8080/"
        },
        "id": "zkUNC2QSqFG1",
        "outputId": "daf624d3-e9cc-4c01-d6e1-2a1f792aa0e8"
      },
      "execution_count": null,
      "outputs": [
        {
          "output_type": "stream",
          "name": "stdout",
          "text": [
            "2\n"
          ]
        }
      ]
    },
    {
      "cell_type": "markdown",
      "source": [
        "**Scope of Variables:**"
      ],
      "metadata": {
        "id": "oC6k_KLxpPbu"
      }
    },
    {
      "cell_type": "markdown",
      "source": [
        "Variables defined inside a function have local scope, meaning they can only be accessed within that function. Variables defined outside of any function (at the module level) have global scope and can be accessed from any part of the code."
      ],
      "metadata": {
        "id": "hOTbfvpYpVS9"
      }
    },
    {
      "cell_type": "markdown",
      "source": [
        "**Global Variables**"
      ],
      "metadata": {
        "id": "lvU9XMwOpbrt"
      }
    },
    {
      "cell_type": "code",
      "source": [
        "x = \"awesome\"\n",
        "\n",
        "def myfunc():\n",
        "  print(\"Python is \" + x)\n",
        "\n",
        "myfunc()"
      ],
      "metadata": {
        "id": "utmDYBQXuCyn",
        "colab": {
          "base_uri": "https://localhost:8080/"
        },
        "outputId": "9e1721ee-5bdd-4c12-d60e-435d15d16187"
      },
      "execution_count": null,
      "outputs": [
        {
          "output_type": "stream",
          "name": "stdout",
          "text": [
            "Python is awesome\n"
          ]
        }
      ]
    },
    {
      "cell_type": "markdown",
      "source": [
        "**Local Variables**"
      ],
      "metadata": {
        "id": "sJt9WMQHphX9"
      }
    },
    {
      "cell_type": "code",
      "source": [
        "def myfunc():\n",
        "  x = \"fantastic\"\n",
        "  print(\"Python is \" + x)\n",
        "\n",
        "myfunc()"
      ],
      "metadata": {
        "colab": {
          "base_uri": "https://localhost:8080/"
        },
        "id": "IuHpGkBYphoP",
        "outputId": "5e62c23b-1f98-4da6-e298-5466d02edfe8"
      },
      "execution_count": null,
      "outputs": [
        {
          "output_type": "stream",
          "name": "stdout",
          "text": [
            "Python is fantastic\n"
          ]
        }
      ]
    },
    {
      "cell_type": "code",
      "source": [
        "x = \"awesome\"\n",
        "\n",
        "def myfunc():\n",
        "  x = \"fantastic\"\n",
        "  print(\"Python is \" + x)\n",
        "\n",
        "myfunc()\n",
        "\n",
        "print(\"Python is \" + x)"
      ],
      "metadata": {
        "colab": {
          "base_uri": "https://localhost:8080/"
        },
        "id": "VIG6gOWkpp8_",
        "outputId": "2d40daf1-8a6c-41d3-d28f-94a2bf3a5522"
      },
      "execution_count": null,
      "outputs": [
        {
          "output_type": "stream",
          "name": "stdout",
          "text": [
            "Python is fantastic\n",
            "Python is awesome\n"
          ]
        }
      ]
    },
    {
      "cell_type": "markdown",
      "source": [
        "**CODE-7 Factorial of a number**"
      ],
      "metadata": {
        "id": "iVdPJScmqlbM"
      }
    },
    {
      "cell_type": "code",
      "source": [
        "num=int(input())\n",
        "if(num==0):\n",
        "    print(\"1\")\n",
        "elif(num==1):\n",
        "    print(\"1\")\n",
        "else:\n",
        "    for i in range(1,num):\n",
        "        num=num*i\n",
        "print(num)"
      ],
      "metadata": {
        "colab": {
          "base_uri": "https://localhost:8080/"
        },
        "id": "AZtNY098qjWD",
        "outputId": "ee1d7f4a-6467-4a05-8cdb-ee3850bd6e89"
      },
      "execution_count": null,
      "outputs": [
        {
          "output_type": "stream",
          "name": "stdout",
          "text": [
            "5\n",
            "120\n"
          ]
        }
      ]
    },
    {
      "cell_type": "code",
      "source": [
        "def fac(num):\n",
        "  if(num==0):\n",
        "    return \"0\"\n",
        "  elif(num==1):\n",
        "   return \"1\"\n",
        "  else:\n",
        "    for i in range(1,num):\n",
        "        num=num*i\n",
        "    return num\n",
        "num=int(input())\n",
        "print(fac(num))"
      ],
      "metadata": {
        "colab": {
          "base_uri": "https://localhost:8080/"
        },
        "id": "edD1A9wOrIRB",
        "outputId": "9bc40aa7-da19-432a-c969-7efc05da4786"
      },
      "execution_count": null,
      "outputs": [
        {
          "output_type": "stream",
          "name": "stdout",
          "text": [
            "5\n",
            "120\n"
          ]
        }
      ]
    },
    {
      "cell_type": "markdown",
      "source": [
        "**CODE-8 Python program to sort string character in ascending order.**\n"
      ],
      "metadata": {
        "id": "eXapDmwmss2B"
      }
    },
    {
      "cell_type": "code",
      "source": [
        "def fun(a):\n",
        "  b=list(a)\n",
        "  b.sort()\n",
        "  d =\"\".join(b)\n",
        "  return d\n",
        "a=input(\"Enter a string:\")\n",
        "print(fun(a))"
      ],
      "metadata": {
        "colab": {
          "base_uri": "https://localhost:8080/"
        },
        "id": "sAgtv1oIr_lC",
        "outputId": "b721913b-5bcc-4d34-b485-0efc81bf4d67"
      },
      "execution_count": null,
      "outputs": [
        {
          "output_type": "stream",
          "name": "stdout",
          "text": [
            "Enter a string:prasad\n",
            "aadprs\n"
          ]
        }
      ]
    },
    {
      "cell_type": "markdown",
      "source": [
        "**CODE-9 Printing star code**"
      ],
      "metadata": {
        "id": "9s7B-ceJt3RJ"
      }
    },
    {
      "cell_type": "code",
      "source": [
        "n=4\n",
        "for i in range(1,n+1):\n",
        "  for j in range(1,(n-i+1)+1):\n",
        "    print(\" \",end=\" \")\n",
        "  for j in range(1,(2*i-1)+1):\n",
        "    print(\"*\",end=\" \")\n",
        "  print( \" \")"
      ],
      "metadata": {
        "colab": {
          "base_uri": "https://localhost:8080/"
        },
        "id": "Y_X03gPwtzKg",
        "outputId": "d74d2f16-38ac-4da6-c1af-3f447354f944"
      },
      "execution_count": null,
      "outputs": [
        {
          "output_type": "stream",
          "name": "stdout",
          "text": [
            "      *  \n",
            "    * * *  \n",
            "  * * * * *  \n",
            "* * * * * * *  \n"
          ]
        }
      ]
    },
    {
      "cell_type": "markdown",
      "source": [],
      "metadata": {
        "id": "HrO6MxwXvQy3"
      }
    },
    {
      "cell_type": "code",
      "source": [
        "n=4\n",
        "for i in range(n,0,-1):\n",
        "  for j in range(1,(n-i)+1):\n",
        "    print(\" \",end=\" \")\n",
        "  for j in range(1,(2*i-1)+1):\n",
        "    print(\"*\",end=\" \")\n",
        "  print( \" \")"
      ],
      "metadata": {
        "colab": {
          "base_uri": "https://localhost:8080/"
        },
        "id": "KxdiQlRFvUCI",
        "outputId": "2f8e2fe8-a71f-43e1-88d6-535601505a7a"
      },
      "execution_count": null,
      "outputs": [
        {
          "output_type": "stream",
          "name": "stdout",
          "text": [
            "* * * * * * *  \n",
            "  * * * * *  \n",
            "    * * *  \n",
            "      *  \n"
          ]
        }
      ]
    },
    {
      "cell_type": "code",
      "source": [
        "n=4\n",
        "for i in range(1,n+1):\n",
        "  for j in range(1,(n-i+1)+1):\n",
        "    print(\" \",end=\" \")\n",
        "  for j in range(1,(2*i-1)+1):\n",
        "    print(\"*\",end=\" \")\n",
        "  print( )\n",
        "print(((2*n)+1)* \"* \",end=(\" \"))\n",
        "print( )\n",
        "for i in range(n,0,-1):\n",
        "  for j in range(1,(n-i+1)+1):\n",
        "    print(\" \",end=\" \")\n",
        "  for j in range(1,(2*i-1)+1):\n",
        "    print(\"*\",end=\" \")\n",
        "  print( )"
      ],
      "metadata": {
        "colab": {
          "base_uri": "https://localhost:8080/"
        },
        "id": "RZwzH26wwWRP",
        "outputId": "325a1e42-8ee7-4f8f-df5e-bab3080df77a"
      },
      "execution_count": null,
      "outputs": [
        {
          "output_type": "stream",
          "name": "stdout",
          "text": [
            "        * \n",
            "      * * * \n",
            "    * * * * * \n",
            "  * * * * * * * \n",
            "* * * * * * * * *  \n",
            "  * * * * * * * \n",
            "    * * * * * \n",
            "      * * * \n",
            "        * \n"
          ]
        }
      ]
    },
    {
      "cell_type": "markdown",
      "source": [
        "# Day 10 - GITHUB\n",
        "# Day 11- Exception handling and file handling\n"
      ],
      "metadata": {
        "id": "DeHYBxYsO7Xg"
      }
    },
    {
      "cell_type": "markdown",
      "source": [
        "# Exception Handling"
      ],
      "metadata": {
        "id": "180f9q5vPK3i"
      }
    },
    {
      "cell_type": "markdown",
      "source": [
        "When an error occurs, or exception as we call it, Python will normally stop and generate an error message."
      ],
      "metadata": {
        "id": "k2c6kXs7PKvC"
      }
    },
    {
      "cell_type": "markdown",
      "source": [
        "1. The try block lets you test a block of code for errors.\n",
        "\n",
        "2. The except block lets you handle the error.\n",
        "\n",
        "3. The else block lets you execute code when there is no error.\n",
        "\n",
        "4. The finally block lets you execute code, regardless of the result of the try- and except blocks."
      ],
      "metadata": {
        "id": "7uFUzwkSPKqY"
      }
    },
    {
      "cell_type": "markdown",
      "source": [
        "These exceptions can be handled using the try statement:"
      ],
      "metadata": {
        "id": "B3FGQoeAPiZR"
      }
    },
    {
      "cell_type": "code",
      "source": [
        "#The try block will generate an exception, because x is not defined:\n",
        "try:\n",
        "  print(x)\n",
        "except:\n",
        "  print(\"An exception occurred\")"
      ],
      "metadata": {
        "id": "VLoZR-YWCX7V",
        "colab": {
          "base_uri": "https://localhost:8080/"
        },
        "outputId": "f1dd58fd-f656-4461-e021-35d313733e24"
      },
      "execution_count": null,
      "outputs": [
        {
          "output_type": "stream",
          "name": "stdout",
          "text": [
            "An exception occurred\n"
          ]
        }
      ]
    },
    {
      "cell_type": "markdown",
      "source": [
        "**Many Exceptions**"
      ],
      "metadata": {
        "id": "vrJOvs_IQYnA"
      }
    },
    {
      "cell_type": "markdown",
      "source": [
        "You can define as many exception blocks as you want, e.g. if you want to execute a special block of code for a special kind of error:"
      ],
      "metadata": {
        "id": "Oo8Rz7HgQaO6"
      }
    },
    {
      "cell_type": "markdown",
      "source": [
        "*Print one message if the try block raises a NameError and another for other errors:*"
      ],
      "metadata": {
        "id": "j0RFKDj1Qc5v"
      }
    },
    {
      "cell_type": "code",
      "source": [
        "try:\n",
        "  print(50/0)\n",
        "except NameError:\n",
        "  print(\"Variable x is not defined\")\n",
        "except:\n",
        "  print(\"Something else went wrong\")"
      ],
      "metadata": {
        "id": "GRaI6Pb0Qhu1",
        "colab": {
          "base_uri": "https://localhost:8080/"
        },
        "outputId": "5551c052-132a-42b7-b10e-6f141cbd4202"
      },
      "execution_count": null,
      "outputs": [
        {
          "output_type": "stream",
          "name": "stdout",
          "text": [
            "Something else went wrong\n"
          ]
        }
      ]
    },
    {
      "cell_type": "markdown",
      "source": [
        "**Else**"
      ],
      "metadata": {
        "id": "7iL6DeFpQqFz"
      }
    },
    {
      "cell_type": "markdown",
      "source": [
        "You can use the else keyword to define a block of code to be executed if no errors were raised:"
      ],
      "metadata": {
        "id": "QvPdlBtrQqmO"
      }
    },
    {
      "cell_type": "code",
      "source": [
        "try:\n",
        "  print(\"Hello\")\n",
        "except:\n",
        "  print(\"Something went wrong\")\n",
        "else:\n",
        "  print(\"Nothing went wrong\")"
      ],
      "metadata": {
        "colab": {
          "base_uri": "https://localhost:8080/"
        },
        "id": "q0e4E7OvQygw",
        "outputId": "10dea7a6-2e82-41f4-a2c1-cfe18cf276d2"
      },
      "execution_count": null,
      "outputs": [
        {
          "output_type": "stream",
          "name": "stdout",
          "text": [
            "Hello\n",
            "Nothing went wrong\n"
          ]
        }
      ]
    },
    {
      "cell_type": "markdown",
      "source": [
        "**Finally**"
      ],
      "metadata": {
        "id": "7L5tXYMoQ2s4"
      }
    },
    {
      "cell_type": "markdown",
      "source": [
        "The finally block, if specified, will be executed regardless if the try block raises an error or not."
      ],
      "metadata": {
        "id": "K-TStn3dQ58k"
      }
    },
    {
      "cell_type": "code",
      "source": [
        "try:\n",
        "  print(x)\n",
        "except:\n",
        "  print(\"Something went wrong\")\n",
        "finally:\n",
        "  print(\"The 'try except' is finished\")"
      ],
      "metadata": {
        "id": "TQ5BMEiaQ2WT",
        "colab": {
          "base_uri": "https://localhost:8080/"
        },
        "outputId": "e639ac81-ef43-478b-e49f-9ce5f7cf68d7"
      },
      "execution_count": null,
      "outputs": [
        {
          "output_type": "stream",
          "name": "stdout",
          "text": [
            "Something went wrong\n",
            "The 'try except' is finished\n"
          ]
        }
      ]
    },
    {
      "cell_type": "markdown",
      "source": [
        "# DAY 12"
      ],
      "metadata": {
        "id": "R8ZlAKJZoySK"
      }
    },
    {
      "cell_type": "markdown",
      "source": [
        "# OPPS"
      ],
      "metadata": {
        "id": "yNArlUwMpJPr"
      }
    },
    {
      "cell_type": "markdown",
      "source": [
        "\n",
        "**In programming, \"OPPS\" stands for \"Object-Oriented Programming Principles\" or \"Object-Oriented Programming Paradigm.\" It's a programming paradigm based on the concept of \"objects,\" which can contain data and code to manipulate that data.**"
      ],
      "metadata": {
        "id": "VnnZcZgjpTC9"
      }
    },
    {
      "cell_type": "markdown",
      "source": [
        " The four main principles of OOP are:"
      ],
      "metadata": {
        "id": "yagMtzNgpZTf"
      }
    },
    {
      "cell_type": "markdown",
      "source": [
        "1. **Encapsulation**: Bundling data and methods that operate on the data into a single unit (an object), and restricting access to some of the object's components.\n",
        "2. **Inheritance**: Allowing a class (called a subclass or derived class) to inherit properties and behavior from another class (called a superclass or base class), promoting code reuse and organization.\n",
        "3. **Polymorphism**: The ability for objects of different classes to be treated as objects of a common superclass. This allows methods to be called on objects without needing to know the specific class of the object, facilitating flexibility and extensibility.\n",
        "4. **Abstraction**: Focusing on essential qualities of an object while ignoring irrelevant details. Abstraction allows developers to create models that simulate real-world systems more accurately and effectively.\n"
      ],
      "metadata": {
        "id": "Mijz3MMwphyh"
      }
    },
    {
      "cell_type": "markdown",
      "source": [
        "**Python Classes and Objects**"
      ],
      "metadata": {
        "id": "lP59d0w8qzUa"
      }
    },
    {
      "cell_type": "markdown",
      "source": [
        "1. Python is an object oriented programming language.\n",
        "\n",
        "2. Almost everything in Python is an object, with its properties and methods.\n",
        "\n",
        "3. A Class is like an object constructor, or a \"blueprint\" for creating objects."
      ],
      "metadata": {
        "id": "Om2ctRixq7fL"
      }
    },
    {
      "cell_type": "markdown",
      "source": [
        "**Create a Class**"
      ],
      "metadata": {
        "id": "uSYtxZi8rEar"
      }
    },
    {
      "cell_type": "markdown",
      "source": [
        "To create a class, use the keyword class:"
      ],
      "metadata": {
        "id": "mDUYNtZSrK_V"
      }
    },
    {
      "cell_type": "code",
      "source": [
        "#Create a class named MyClass\n",
        "class MyClass:\n",
        "  x = 5"
      ],
      "metadata": {
        "id": "avM2Rbb9pJmT"
      },
      "execution_count": null,
      "outputs": []
    },
    {
      "cell_type": "markdown",
      "source": [
        "**Create Object**"
      ],
      "metadata": {
        "id": "qcesVPb3rU6N"
      }
    },
    {
      "cell_type": "markdown",
      "source": [
        "Now we can use the class named MyClass to create objects:"
      ],
      "metadata": {
        "id": "pzmmSU-OrW39"
      }
    },
    {
      "cell_type": "code",
      "source": [
        "#Create an object named p1, and print the value of x:\n",
        "class MyClass:\n",
        "  x = 5\n",
        "\n",
        "p1 = MyClass()\n",
        "print(p1.x)"
      ],
      "metadata": {
        "colab": {
          "base_uri": "https://localhost:8080/"
        },
        "id": "OEHtNBLbpKdR",
        "outputId": "938426ff-87b9-4a78-ec67-d4a60294642b"
      },
      "execution_count": null,
      "outputs": [
        {
          "output_type": "stream",
          "name": "stdout",
          "text": [
            "5\n"
          ]
        }
      ]
    },
    {
      "cell_type": "markdown",
      "source": [
        "**The __init__() Function**"
      ],
      "metadata": {
        "id": "hacEgXrEs_Pk"
      }
    },
    {
      "cell_type": "markdown",
      "source": [
        "* The examples above are classes and objects in their simplest form, and are not really useful in real life applications.\n",
        "\n",
        "* To understand the meaning of classes we have to understand the built-in __init__() function.\n",
        "\n",
        "* All classes have a function called __init__(), which is always executed when the class is being initiated.\n",
        "\n",
        "* Use the __init__() function to assign values to object properties, or other operations that are necessary to do when the object is being created:"
      ],
      "metadata": {
        "id": "efTDNa3rtB4z"
      }
    },
    {
      "cell_type": "markdown",
      "source": [
        "Create a class named Person, use the __init__() function to assign values for name and age:"
      ],
      "metadata": {
        "id": "9ZbEnwxUtS72"
      }
    },
    {
      "cell_type": "code",
      "source": [
        "class Person:\n",
        "  def __init__(self, name, age):\n",
        "    self.name = name\n",
        "    self.age = age\n",
        "\n",
        "p1 = Person(\"JohnObject Methods\", 36)\n",
        "\n",
        "print(p1.name)\n",
        "print(p1.age)"
      ],
      "metadata": {
        "id": "KX5bQCgdpKZ8"
      },
      "execution_count": null,
      "outputs": []
    },
    {
      "cell_type": "markdown",
      "source": [
        "**Note: The self parameter is a reference to the current instance of the class, and is used to access variables that belong to the class.**"
      ],
      "metadata": {
        "id": "1JEN2cc_zgQf"
      }
    },
    {
      "cell_type": "markdown",
      "source": [
        "**Object Methods**"
      ],
      "metadata": {
        "id": "qkPtT1dIzJN1"
      }
    },
    {
      "cell_type": "markdown",
      "source": [
        "Objects can also contain methods. Methods in objects are functions that belong to the object.\n",
        "\n",
        "Let us create a method in the Person class:"
      ],
      "metadata": {
        "id": "4PXNF6YdzM-W"
      }
    },
    {
      "cell_type": "code",
      "source": [
        "class Person:\n",
        "  def __init__(self, name, age):\n",
        "    self.name = name\n",
        "    self.age = age\n",
        "\n",
        "  def myfunc(self):\n",
        "    print(\"Hello my name is \" + self.name)\n",
        "\n",
        "p1 = Person(\"John\", 36)\n",
        "p1.myfunc()"
      ],
      "metadata": {
        "colab": {
          "base_uri": "https://localhost:8080/"
        },
        "id": "rPDjVW4RpKW6",
        "outputId": "e80af4d6-0c16-4a11-f00e-3d58f97e8ed9"
      },
      "execution_count": null,
      "outputs": [
        {
          "output_type": "stream",
          "name": "stdout",
          "text": [
            "Hello my name is John\n"
          ]
        }
      ]
    },
    {
      "cell_type": "markdown",
      "source": [
        "**The self Parameter**"
      ],
      "metadata": {
        "id": "9xAmnWv8zqLI"
      }
    },
    {
      "cell_type": "markdown",
      "source": [
        "It does not have to be named self , you can call it whatever you like, but it has to be the first parameter of any function in the class:"
      ],
      "metadata": {
        "id": "V_WWqygxzt4p"
      }
    },
    {
      "cell_type": "code",
      "source": [
        "class Person:\n",
        "  def __init__(mysillyobject, name, age):\n",
        "    mysillyobject.name = name\n",
        "    mysillyobject.age = age\n",
        "\n",
        "  def myfunc(abc):\n",
        "    print(\"Hello my name is \" + abc.name)\n",
        "\n",
        "p1 = Person(\"John\", 36)\n",
        "p1.myfunc()"
      ],
      "metadata": {
        "id": "Emp8n10ppKSR"
      },
      "execution_count": null,
      "outputs": []
    },
    {
      "cell_type": "markdown",
      "source": [
        "Modify Object Properties"
      ],
      "metadata": {
        "id": "LFKO_nVyz02k"
      }
    },
    {
      "cell_type": "code",
      "source": [
        "class Person:\n",
        "  def __init__(self, name, age):\n",
        "    self.name = name\n",
        "    self.age = age\n",
        "\n",
        "  def myfunc(self):\n",
        "    print(\"Hello my name is \" + self.name)\n",
        "\n",
        "p1 = Person(\"John\", 36)\n",
        "\n",
        "p1.age = 40\n",
        "\n",
        "print(p1.age)\n"
      ],
      "metadata": {
        "colab": {
          "base_uri": "https://localhost:8080/"
        },
        "id": "-v4NR5hGpKMz",
        "outputId": "a3ee3a94-beb9-4b8a-fb3b-f6477ecf827a"
      },
      "execution_count": null,
      "outputs": [
        {
          "output_type": "stream",
          "name": "stdout",
          "text": [
            "40\n"
          ]
        }
      ]
    },
    {
      "cell_type": "markdown",
      "source": [
        "**Delete Object Properties**"
      ],
      "metadata": {
        "id": "s3SB7akwz99d"
      }
    },
    {
      "cell_type": "code",
      "source": [
        "class Person:\n",
        "  def __init__(self, name, age):\n",
        "    self.name = name\n",
        "    self.age = age\n",
        "\n",
        "  def myfunc(self):\n",
        "    print(\"Hello my name is \" + self.name)\n",
        "\n",
        "p1 = Person(\"John\", 36)\n",
        "\n",
        "del p1.age\n",
        "\n",
        "print(p1.age)"
      ],
      "metadata": {
        "colab": {
          "base_uri": "https://localhost:8080/",
          "height": 183
        },
        "id": "rDnOuqezpKHO",
        "outputId": "dfe8e556-361b-4c8d-ccde-d10fc5b08b4f"
      },
      "execution_count": null,
      "outputs": [
        {
          "output_type": "error",
          "ename": "AttributeError",
          "evalue": "'Person' object has no attribute 'age'",
          "traceback": [
            "\u001b[0;31m---------------------------------------------------------------------------\u001b[0m",
            "\u001b[0;31mAttributeError\u001b[0m                            Traceback (most recent call last)",
            "\u001b[0;32m<ipython-input-9-46454e0e6825>\u001b[0m in \u001b[0;36m<cell line: 13>\u001b[0;34m()\u001b[0m\n\u001b[1;32m     11\u001b[0m \u001b[0;32mdel\u001b[0m \u001b[0mp1\u001b[0m\u001b[0;34m.\u001b[0m\u001b[0mage\u001b[0m\u001b[0;34m\u001b[0m\u001b[0;34m\u001b[0m\u001b[0m\n\u001b[1;32m     12\u001b[0m \u001b[0;34m\u001b[0m\u001b[0m\n\u001b[0;32m---> 13\u001b[0;31m \u001b[0mprint\u001b[0m\u001b[0;34m(\u001b[0m\u001b[0mp1\u001b[0m\u001b[0;34m.\u001b[0m\u001b[0mage\u001b[0m\u001b[0;34m)\u001b[0m\u001b[0;34m\u001b[0m\u001b[0;34m\u001b[0m\u001b[0m\n\u001b[0m",
            "\u001b[0;31mAttributeError\u001b[0m: 'Person' object has no attribute 'age'"
          ]
        }
      ]
    },
    {
      "cell_type": "code",
      "source": [
        "class Person:\n",
        "  def __init__(self, name, age):\n",
        "    self.name = name\n",
        "    self.age = age\n",
        "\n",
        "  def myfunc(self):\n",
        "    print(\"Hello my name is \" + self.name)\n",
        "\n",
        "p1 = Person(\"John\", 36)\n",
        "\n",
        "del p1\n",
        "\n",
        "print(p1)"
      ],
      "metadata": {
        "colab": {
          "base_uri": "https://localhost:8080/",
          "height": 183
        },
        "id": "8_r47_Vr0Li-",
        "outputId": "7db1a41a-32ae-42d8-80a3-47fd3688eaae"
      },
      "execution_count": null,
      "outputs": [
        {
          "output_type": "error",
          "ename": "NameError",
          "evalue": "name 'p1' is not defined",
          "traceback": [
            "\u001b[0;31m---------------------------------------------------------------------------\u001b[0m",
            "\u001b[0;31mNameError\u001b[0m                                 Traceback (most recent call last)",
            "\u001b[0;32m<ipython-input-5-8d9ca57d628a>\u001b[0m in \u001b[0;36m<cell line: 13>\u001b[0;34m()\u001b[0m\n\u001b[1;32m     11\u001b[0m \u001b[0;32mdel\u001b[0m \u001b[0mp1\u001b[0m\u001b[0;34m\u001b[0m\u001b[0;34m\u001b[0m\u001b[0m\n\u001b[1;32m     12\u001b[0m \u001b[0;34m\u001b[0m\u001b[0m\n\u001b[0;32m---> 13\u001b[0;31m \u001b[0mprint\u001b[0m\u001b[0;34m(\u001b[0m\u001b[0mp1\u001b[0m\u001b[0;34m)\u001b[0m\u001b[0;34m\u001b[0m\u001b[0;34m\u001b[0m\u001b[0m\n\u001b[0m",
            "\u001b[0;31mNameError\u001b[0m: name 'p1' is not defined"
          ]
        }
      ]
    },
    {
      "cell_type": "markdown",
      "source": [
        "**The pass Statement**"
      ],
      "metadata": {
        "id": "x5o0UFwz0Rfw"
      }
    },
    {
      "cell_type": "code",
      "source": [
        "class Person:\n",
        "  pass"
      ],
      "metadata": {
        "id": "gFk4dEp30Y8u"
      },
      "execution_count": null,
      "outputs": []
    },
    {
      "cell_type": "markdown",
      "source": [
        "**Python Inheitance**"
      ],
      "metadata": {
        "id": "K_v_DobK1C7p"
      }
    },
    {
      "cell_type": "markdown",
      "source": [
        "Inheritance allows us to define a class that inherits all the methods and properties from another class.\n",
        "\n",
        "* Parent class is the class being inherited from, also called base class.\n",
        "\n",
        "* Child class is the class that inherits from another class, also called derived class."
      ],
      "metadata": {
        "id": "MitvSswU1IpO"
      }
    },
    {
      "cell_type": "markdown",
      "source": [
        "**Create a Parent Class**\n",
        "Any class can be a parent class, so the syntax is the same as creating any other class:"
      ],
      "metadata": {
        "id": "ESksSVXI1hCO"
      }
    },
    {
      "cell_type": "code",
      "source": [
        "class Person:\n",
        "  def __init__(self, fname, lname):\n",
        "    self.firstname = fname\n",
        "    self.lastname = lname\n",
        "\n",
        "  def printname(self):\n",
        "    print(self.firstname, self.lastname)\n",
        "\n",
        "#Use the Person class to create an object, and then execute the printname method:\n",
        "\n",
        "x = Person(\"John\", \"Doe\")\n",
        "x.printname()"
      ],
      "metadata": {
        "colab": {
          "base_uri": "https://localhost:8080/"
        },
        "id": "qnenbq0i1k_c",
        "outputId": "0aafbe43-f3ac-4909-880d-8b85f305c310"
      },
      "execution_count": null,
      "outputs": [
        {
          "output_type": "stream",
          "name": "stdout",
          "text": [
            "John Doe\n"
          ]
        }
      ]
    },
    {
      "cell_type": "markdown",
      "source": [
        "**Create a Child Class**\n",
        "To create a class that inherits the functionality from another class, send the parent class as a parameter when creating the child class:"
      ],
      "metadata": {
        "id": "uQwihR7s1qii"
      }
    },
    {
      "cell_type": "markdown",
      "source": [
        "Create a class named Student, which will inherit the properties and methods from the Person class:"
      ],
      "metadata": {
        "id": "aB1YX_SG1wNL"
      }
    },
    {
      "cell_type": "code",
      "source": [
        "class Person:\n",
        "  def __init__(self, fname, lname):\n",
        "    self.firstname = fname\n",
        "    self.lastname = lname\n",
        "\n",
        "  def printname(self):\n",
        "    print(self.firstname, self.lastname)\n",
        "\n",
        "class Student(Person):\n",
        "  pass\n",
        "\n",
        "x = Student(\"Mike\", \"Olsen\")\n",
        "x.printname()"
      ],
      "metadata": {
        "id": "1MqpWnJA1tl6"
      },
      "execution_count": null,
      "outputs": []
    },
    {
      "cell_type": "markdown",
      "source": [
        "**Python Polymorphism**"
      ],
      "metadata": {
        "id": "j1Kyl74Z2K1v"
      }
    },
    {
      "cell_type": "markdown",
      "source": [
        "The word \"polymorphism\" means \"many forms\", and in programming it refers to methods/functions/operators with the same name that can be executed on many objects or classes."
      ],
      "metadata": {
        "id": "tH1yQFat2NHA"
      }
    },
    {
      "cell_type": "markdown",
      "source": [
        "**Function Polymorphism**\n",
        "An example of a Python function that can be used on different objects is the len() function."
      ],
      "metadata": {
        "id": "Jjx9zu7C2QJG"
      }
    },
    {
      "cell_type": "code",
      "source": [
        "x = \"Hello World!\"\n",
        "\n",
        "print(len(x))"
      ],
      "metadata": {
        "id": "8GvpVwAm2T-w"
      },
      "execution_count": null,
      "outputs": []
    },
    {
      "cell_type": "code",
      "source": [
        "mytuple = (\"apple\", \"banana\", \"cherry\")\n",
        "\n",
        "print(len(mytuple))"
      ],
      "metadata": {
        "id": "RbduaS6b2aEQ"
      },
      "execution_count": null,
      "outputs": []
    },
    {
      "cell_type": "code",
      "source": [
        "thisdict = {\n",
        "  \"brand\": \"Ford\",\n",
        "  \"model\": \"Mustang\",\n",
        "  \"year\": 1964\n",
        "}\n",
        "\n",
        "print(len(thisdict))"
      ],
      "metadata": {
        "id": "qEHybWIY2eDC"
      },
      "execution_count": null,
      "outputs": []
    },
    {
      "cell_type": "markdown",
      "source": [
        "**Class Polymorphism**\n",
        "* Polymorphism is often used in Class methods, where we can have multiple classes with the same method name.\n",
        "\n",
        "* For example, say we have three classes: Car, Boat, and Plane, and they all have a method called move():"
      ],
      "metadata": {
        "id": "UafDK_VR2hW5"
      }
    },
    {
      "cell_type": "code",
      "source": [
        "class Car:\n",
        "  def __init__(self, brand, model):\n",
        "    self.brand = brand\n",
        "    self.model = model\n",
        "\n",
        "  def move(self):\n",
        "    print(\"Drive!\")\n",
        "\n",
        "class Boat:\n",
        "  def __init__(self, brand, model):\n",
        "    self.brand = brand\n",
        "    self.model = model\n",
        "\n",
        "  def move(self):\n",
        "    print(\"Sail!\")\n",
        "\n",
        "class Plane:\n",
        "  def __init__(self, brand, model):\n",
        "    self.brand = brand\n",
        "    self.model = model\n",
        "\n",
        "  def move(self):\n",
        "    print(\"Fly!\")\n",
        "\n",
        "car1 = Car(\"Ford\", \"Mustang\")       #Create a Car class\n",
        "boat1 = Boat(\"Ibiza\", \"Touring 20\") #Create a Boat class\n",
        "plane1 = Plane(\"Boeing\", \"747\")     #Create a Plane class\n",
        "\n",
        "for x in (car1, boat1, plane1):\n",
        "  x.move()"
      ],
      "metadata": {
        "id": "w1Q6d8_a2hFy"
      },
      "execution_count": null,
      "outputs": []
    },
    {
      "cell_type": "markdown",
      "source": [
        "**Inheritance Class Polymorphism**"
      ],
      "metadata": {
        "id": "733j40p42_Wm"
      }
    },
    {
      "cell_type": "markdown",
      "source": [
        "Yes. If we use the example above and make a parent class called Vehicle, and make Car, Boat, Plane child classes of Vehicle, the child classes inherits the Vehicle methods, but can override them:"
      ],
      "metadata": {
        "id": "ZP8Y48Yr3Bhu"
      }
    },
    {
      "cell_type": "code",
      "source": [
        "class Vehicle:\n",
        "  def __init__(self, brand, model):\n",
        "    self.brand = brand\n",
        "    self.model = model\n",
        "\n",
        "  def move(self):\n",
        "    print(\"Move!\")\n",
        "\n",
        "class Car(Vehicle):\n",
        "  pass\n",
        "\n",
        "class Boat(Vehicle):\n",
        "  def move(self):\n",
        "    print(\"Sail!\")\n",
        "\n",
        "class Plane(Vehicle):\n",
        "  def move(self):\n",
        "    print(\"Fly!\")\n",
        "\n",
        "car1 = Car(\"Ford\", \"Mustang\") #Create a Car object\n",
        "boat1 = Boat(\"Ibiza\", \"Touring 20\") #Create a Boat object\n",
        "plane1 = Plane(\"Boeing\", \"747\") #Create a Plane object\n",
        "\n",
        "for x in (car1, boat1, plane1):\n",
        "  print(x.brand)\n",
        "  print(x.model)\n",
        "  x.move()"
      ],
      "metadata": {
        "colab": {
          "base_uri": "https://localhost:8080/"
        },
        "id": "GYUixY7o3Fp5",
        "outputId": "cc2f3113-5e1a-44fe-f903-fed35c05a7a3"
      },
      "execution_count": null,
      "outputs": [
        {
          "output_type": "stream",
          "name": "stdout",
          "text": [
            "Ford\n",
            "Mustang\n",
            "Move!\n",
            "Ibiza\n",
            "Touring 20\n",
            "Sail!\n",
            "Boeing\n",
            "747\n",
            "Fly!\n"
          ]
        }
      ]
    }
  ]
}